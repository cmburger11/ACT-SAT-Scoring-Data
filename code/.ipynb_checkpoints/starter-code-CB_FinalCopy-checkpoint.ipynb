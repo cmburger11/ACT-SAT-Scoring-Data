{
 "cells": [
  {
   "cell_type": "markdown",
   "metadata": {},
   "source": [
    "<img src=\"http://imgur.com/1ZcRyrc.png\" style=\"float: left; margin: 20px; height: 55px\">\n",
    "\n",
    "# Project 1: Standardized Test Analysis"
   ]
  },
  {
   "cell_type": "markdown",
   "metadata": {},
   "source": [
    "--- \n",
    "# Part 1\n",
    "\n",
    "Part 1 requires knowledge of basic Python.\n",
    "\n",
    "---"
   ]
  },
  {
   "cell_type": "markdown",
   "metadata": {},
   "source": [
    "## Problem Statement"
   ]
  },
  {
   "cell_type": "markdown",
   "metadata": {},
   "source": [
    "How do State Requirements for taking the ACT or SAT affect the participation rate and mainly, the overall score for each test?"
   ]
  },
  {
   "cell_type": "markdown",
   "metadata": {},
   "source": [
    "### Contents:\n",
    "- [Background](#Background)\n",
    "- [Data Import & Cleaning](#Data-Import-and-Cleaning)\n",
    "- [Exploratory Data Analysis](#Exploratory-Data-Analysis)\n",
    "- [Data Visualization](#Visualize-the-Data)\n",
    "- [Conclusions and Recommendations](#Conclusions-and-Recommendations)"
   ]
  },
  {
   "cell_type": "markdown",
   "metadata": {},
   "source": [
    "## Background"
   ]
  },
  {
   "cell_type": "markdown",
   "metadata": {},
   "source": [
    "The SAT and ACT are standardized tests that many colleges and universities in the United States require for their admissions process. This score is used along with other materials such as grade point average (GPA) and essay responses to determine whether or not a potential student will be accepted to the university.\n",
    "\n",
    "The SAT has two sections of the test: Evidence-Based Reading and Writing and Math ([*source*](https://www.princetonreview.com/college/sat-sections)). The ACT has 4 sections: English, Mathematics, Reading, and Science, with an additional optional writing section ([*source*](https://www.act.org/content/act/en/products-and-services/the-act/scores/understanding-your-scores.html)). They have different score ranges, which you can read more about on their websites or additional outside sources (a quick Google search will help you understand the scores for each test):\n",
    "* [SAT](https://collegereadiness.collegeboard.org/sat)\n",
    "* [ACT](https://www.act.org/content/act/en.html)\n",
    "\n",
    "Standardized tests have long been a controversial topic for students, administrators, and legislators. Since the 1940's, an increasing number of colleges have been using scores from sudents' performances on tests like the SAT and the ACT as a measure for college readiness and aptitude ([*source*](https://www.minotdailynews.com/news/local-news/2017/04/a-brief-history-of-the-sat-and-act/)). Supporters of these tests argue that these scores can be used as an objective measure to determine college admittance. Opponents of these tests claim that these tests are not accurate measures of students potential or ability and serve as an inequitable barrier to entry. Lately, more and more schools are opting to drop the SAT/ACT requirement for their Fall 2021 applications ([*read more about this here*](https://www.cnn.com/2020/04/14/us/coronavirus-colleges-sat-act-test-trnd/index.html))."
   ]
  },
  {
   "cell_type": "markdown",
   "metadata": {},
   "source": [
    "The states that require ACT or SAT have changed over the years due to legislation, SAT/ACT being pushed, etc. Based on the article 'Does your State require the SAT and ACT?' from testive.com, the following states require either the SAT or the ACT (from 2018 year): States that require the SAT are Colorado, Connecticut, Delaware, District of Columbia, Idaho, Illinois, Maine, Michigan, New Hampshire, Ohio, and Tennessee. States that require the ACT are Alabama, Hawaii, Idaho, Kentucky, Louisiana, Mississippi, Missouri, Montana, Nebraska, Nevada, North Carolina, North Dakota, Ohio, South Carolina, Tennessee, Utah, Wisconsin and Wyoming.\n",
    "\n",
    "Again, based on the problem statement, I am going to determine if there is any correlation between the ACT and SAT participation rates vs. scores in these states."
   ]
  },
  {
   "cell_type": "markdown",
   "metadata": {},
   "source": [
    "### Choose your Data\n",
    "\n",
    "There are 10 datasets included in the [`data`](./data/) folder for this project. You are required to pick **at least two** of these to complete your analysis. Feel free to use more than two if you would like, or add other relevant datasets you find online.\n",
    "\n",
    "* [`act_2017.csv`](./data/act_2017.csv): 2017 ACT Scores by State\n",
    "* [`act_2018.csv`](./data/act_2018.csv): 2018 ACT Scores by State\n",
    "* [`act_2019.csv`](./data/act_2019.csv): 2019 ACT Scores by State\n",
    "* [`act_2019_ca.csv`](./data/act_2019_ca.csv): 2019 ACT Scores in California by School\n",
    "* [`sat_2017.csv`](./data/sat_2017.csv): 2017 SAT Scores by State\n",
    "* [`sat_2018.csv`](./data/sat_2018.csv): 2018 SAT Scores by State\n",
    "* [`sat_2019.csv`](./data/sat_2019.csv): 2019 SAT Scores by State\n",
    "* [`sat_2019_by_intended_college_major.csv`](./data/sat_2019_by_intended_college_major.csv): 2019 SAT Scores by Intended College Major\n",
    "* [`sat_2019_ca.csv`](./data/sat_2019_ca.csv): 2019 SAT Scores in California by School\n",
    "* [`sat_act_by_college.csv`](./data/sat_act_by_college.csv): Ranges of Accepted ACT & SAT Student Scores by Colleges"
   ]
  },
  {
   "cell_type": "markdown",
   "metadata": {},
   "source": [
    "act_19 = pd.read_csv (r'..\\data\\act_2019.csv')\n",
    "\n",
    "ACT Test Participation Rate and Composite/Average Score from the students that took it from All 50 States (Year of 2019)\n",
    "\n",
    "\n",
    "sat_19 = pd.read_csv (r'..\\data\\sat_2019.csv')\n",
    "\n",
    "SAT Test Participation Rate and Average Score(s) from the 50 states (Year of 2019)\n",
    "\n",
    "\n",
    "college = pd.read_csv (r'..\\data\\sat_act_by_college.csv')\n",
    "\n",
    "Shows colleges and Information regarding Acceptance Rate, SAT and ACT scores, among other things.\n",
    "\n",
    "\n",
    "tests_merged = pd.read_csv (r'..\\code\\tests_merged.csv')\n",
    "\n",
    "Merged ACT 2019 with SAT 2019 to show them side by side vs. separately\n",
    "\n",
    "\n",
    "ivy_league = pd.read_csv (r'..\\code\\ivy_league.csv')\n",
    "\n",
    "Shows the same info as tests_merged but only Ivy League schools, pulled from tests_merged.csv\n",
    "\n",
    "\n",
    "act_reqd = pd.read_csv (r'..\\code\\ACT_Required.csv')\n",
    "\n",
    "Shows ACT 2019 data only for States that require the ACT test.\n",
    "\n",
    "act_not_reqd = pd.read_csv (r'..\\code\\ACT_not_Required.csv')\n",
    "\n",
    "Shows ACT 2019 data for all other States/States that do not Require the ACT Test be taken\n",
    "\n",
    "sat_reqd = pd.read_csv (r'..\\code\\SAT_Required.csv')\n",
    "\n",
    "Shows SAT 2019 data only for States that require the SAT test\n",
    "\n",
    "sat_not_reqd = pd.read_csv (r'..\\code\\SAT_not_Required.csv')\n",
    "\n",
    "Shows SAT 2019 data for all other States/States that do not Require the SAT Test be taken\n"
   ]
  },
  {
   "cell_type": "code",
   "execution_count": 26,
   "metadata": {},
   "outputs": [],
   "source": [
    "import pandas as pd\n",
    "import numpy as np\n",
    "import matplotlib.pyplot as plt\n",
    "import seaborn as sns"
   ]
  },
  {
   "cell_type": "markdown",
   "metadata": {},
   "source": [
    "### Outside Research"
   ]
  },
  {
   "cell_type": "markdown",
   "metadata": {},
   "source": [
    "Based on your problem statement and your chosen datasets, spend some time doing outside research on state policies or additional information that might be relevant. Summarize your findings below. If you bring in any outside tables or charts, make sure you are explicit about having borrowed them. If you quote any text, make sure that it renders as being quoted. **Make sure that you cite your sources.**"
   ]
  },
  {
   "cell_type": "markdown",
   "metadata": {},
   "source": [
    "https://www.testive.com/state-sat-act/\n",
    "\"Does Your State Require the SAT or ACT?\""
   ]
  },
  {
   "cell_type": "markdown",
   "metadata": {},
   "source": [
    "### Coding Challenges\n",
    "\n",
    "1. Manually calculate mean:\n",
    "\n",
    "    Write a function that takes in values and returns the mean of the values. Create a list of numbers that you test on your function to check to make sure your function works!\n",
    "    \n",
    "    *Note*: Do not use any mean methods built-in to any Python libraries to do this! This should be done without importing any additional libraries."
   ]
  },
  {
   "cell_type": "code",
   "execution_count": 28,
   "metadata": {},
   "outputs": [
    {
     "data": {
      "text/plain": [
       "17.5"
      ]
     },
     "execution_count": 28,
     "metadata": {},
     "output_type": "execute_result"
    }
   ],
   "source": [
    "def my_mean(sample):\n",
    "    return sum(sample) / len(sample)\n",
    "my_mean([1,4,6,7,8,33,55,26])"
   ]
  },
  {
   "cell_type": "markdown",
   "metadata": {},
   "source": [
    "2. Manually calculate standard deviation:\n",
    "\n",
    "    The formula for standard deviation is below:\n",
    "\n",
    "    $$\\sigma = \\sqrt{\\frac{1}{n}\\sum_{i=1}^n(x_i - \\mu)^2}$$\n",
    "\n",
    "    Where $x_i$ represents each value in the dataset, $\\mu$ represents the mean of all values in the dataset and $n$ represents the number of values in the dataset.\n",
    "\n",
    "    Write a function that takes in values and returns the standard deviation of the values using the formula above. Hint: use the function you wrote above to calculate the mean! Use the list of numbers you created above to test on your function.\n",
    "    \n",
    "    *Note*: Do not use any standard deviation methods built-in to any Python libraries to do this! This should be done without importing any additional libraries."
   ]
  },
  {
   "cell_type": "code",
   "execution_count": 29,
   "metadata": {},
   "outputs": [
    {
     "data": {
      "text/plain": [
       "17.698870020427858"
      ]
     },
     "execution_count": 29,
     "metadata": {},
     "output_type": "execute_result"
    }
   ],
   "source": [
    "def std_dev(number_list): # Defining the function 'std_dev' to accept one argument, 'number_list'.\n",
    "    n = len(number_list)                     \n",
    "    mu = my_mean(number_list)              \n",
    "    step_one = 0                            \n",
    "    for value in number_list:                \n",
    "        step_one += (value - mu)**2          \n",
    "    return (step_one / n)**0.5               \n",
    "std_dev([1,4,6,7,8,33,55,26])"
   ]
  },
  {
   "cell_type": "markdown",
   "metadata": {},
   "source": [
    "3. Data cleaning function:\n",
    "    \n",
    "    Write a function that takes in a string that is a number and a percent symbol (ex. '50%', '30.5%', etc.) and converts this to a float that is the decimal approximation of the percent. For example, inputting '50%' in your function should return 0.5, '30.5%' should return 0.305, etc. Make sure to test your function to make sure it works!\n",
    "\n",
    "You will use these functions later on in the project!"
   ]
  },
  {
   "cell_type": "code",
   "execution_count": 30,
   "metadata": {},
   "outputs": [
    {
     "data": {
      "text/plain": [
       "1.0"
      ]
     },
     "execution_count": 30,
     "metadata": {},
     "output_type": "execute_result"
    }
   ],
   "source": [
    "def pct_to_float(percent): # Convert percentages to floats.                 \n",
    "    no_pct = percent.replace('%', '')       \n",
    "    return (float(no_pct)) / 100 \n",
    "\n",
    "pct_to_float('100%')"
   ]
  },
  {
   "cell_type": "code",
   "execution_count": 31,
   "metadata": {},
   "outputs": [],
   "source": [
    "def clean_strings(new_num): #remove dashes and replace with nothing -- didn't end up needing to use\n",
    "    new_numbers = num.replace('-','')\n",
    "    return int(new_num)"
   ]
  },
  {
   "cell_type": "markdown",
   "metadata": {},
   "source": [
    "--- \n",
    "# Part 2\n",
    "\n",
    "Part 2 requires knowledge of Pandas, EDA, data cleaning, and data visualization.\n",
    "\n",
    "---"
   ]
  },
  {
   "cell_type": "markdown",
   "metadata": {},
   "source": [
    "*All libraries used should be added here*"
   ]
  },
  {
   "cell_type": "code",
   "execution_count": 32,
   "metadata": {},
   "outputs": [],
   "source": [
    "# Imports:\n",
    "import pandas as pd\n",
    "import numpy as np\n",
    "import matplotlib.pyplot as plt\n",
    "import seaborn as sns"
   ]
  },
  {
   "cell_type": "markdown",
   "metadata": {},
   "source": [
    "## Data Import and Cleaning"
   ]
  },
  {
   "cell_type": "markdown",
   "metadata": {},
   "source": [
    "### Data Import & Cleaning\n",
    "\n",
    "Import the datasets that you selected for this project and go through the following steps at a minimum. You are welcome to do further cleaning as you feel necessary:\n",
    "1. Display the data: print the first 5 rows of each dataframe to your Jupyter notebook.\n",
    "2. Check for missing values.\n",
    "3. Check for any obvious issues with the observations (keep in mind the minimum & maximum possible values for each test/subtest).\n",
    "4. Fix any errors you identified in steps 2-3.\n",
    "5. Display the data types of each feature.\n",
    "6. Fix any incorrect data types found in step 5.\n",
    "    - Fix any individual values preventing other columns from being the appropriate type.\n",
    "    - If your dataset has a column of percents (ex. '50%', '30.5%', etc.), use the function you wrote in Part 1 (coding challenges, number 3) to convert this to floats! *Hint*: use `.map()` or `.apply()`.\n",
    "7. Rename Columns.\n",
    "    - Column names should be all lowercase.\n",
    "    - Column names should not contain spaces (underscores will suffice--this allows for using the `df.column_name` method to access columns in addition to `df['column_name']`).\n",
    "    - Column names should be unique and informative.\n",
    "8. Drop unnecessary rows (if needed).\n",
    "9. Merge dataframes that can be merged.\n",
    "10. Perform any additional cleaning that you feel is necessary.\n",
    "11. Save your cleaned and merged dataframes as csv files."
   ]
  },
  {
   "cell_type": "code",
   "execution_count": null,
   "metadata": {},
   "outputs": [],
   "source": [
    "# say_describe()T #########"
   ]
  },
  {
   "cell_type": "code",
   "execution_count": 14,
   "metadata": {},
   "outputs": [
    {
     "data": {
      "text/html": [
       "<div>\n",
       "<style scoped>\n",
       "    .dataframe tbody tr th:only-of-type {\n",
       "        vertical-align: middle;\n",
       "    }\n",
       "\n",
       "    .dataframe tbody tr th {\n",
       "        vertical-align: top;\n",
       "    }\n",
       "\n",
       "    .dataframe thead th {\n",
       "        text-align: right;\n",
       "    }\n",
       "</style>\n",
       "<table border=\"1\" class=\"dataframe\">\n",
       "  <thead>\n",
       "    <tr style=\"text-align: right;\">\n",
       "      <th></th>\n",
       "      <th>State</th>\n",
       "      <th>Participation Rate</th>\n",
       "      <th>EBRW</th>\n",
       "      <th>Math</th>\n",
       "      <th>Total</th>\n",
       "    </tr>\n",
       "  </thead>\n",
       "  <tbody>\n",
       "    <tr>\n",
       "      <th>0</th>\n",
       "      <td>Alabama</td>\n",
       "      <td>7%</td>\n",
       "      <td>583</td>\n",
       "      <td>560</td>\n",
       "      <td>1143</td>\n",
       "    </tr>\n",
       "    <tr>\n",
       "      <th>1</th>\n",
       "      <td>Alaska</td>\n",
       "      <td>41%</td>\n",
       "      <td>556</td>\n",
       "      <td>541</td>\n",
       "      <td>1097</td>\n",
       "    </tr>\n",
       "    <tr>\n",
       "      <th>2</th>\n",
       "      <td>Arizona</td>\n",
       "      <td>31%</td>\n",
       "      <td>569</td>\n",
       "      <td>565</td>\n",
       "      <td>1134</td>\n",
       "    </tr>\n",
       "    <tr>\n",
       "      <th>3</th>\n",
       "      <td>Arkansas</td>\n",
       "      <td>6%</td>\n",
       "      <td>582</td>\n",
       "      <td>559</td>\n",
       "      <td>1141</td>\n",
       "    </tr>\n",
       "    <tr>\n",
       "      <th>4</th>\n",
       "      <td>California</td>\n",
       "      <td>63%</td>\n",
       "      <td>534</td>\n",
       "      <td>531</td>\n",
       "      <td>1065</td>\n",
       "    </tr>\n",
       "  </tbody>\n",
       "</table>\n",
       "</div>"
      ],
      "text/plain": [
       "        State Participation Rate  EBRW  Math  Total\n",
       "0     Alabama                 7%   583   560   1143\n",
       "1      Alaska                41%   556   541   1097\n",
       "2     Arizona                31%   569   565   1134\n",
       "3    Arkansas                 6%   582   559   1141\n",
       "4  California                63%   534   531   1065"
      ]
     },
     "execution_count": 14,
     "metadata": {},
     "output_type": "execute_result"
    }
   ],
   "source": [
    "sat_19.head()"
   ]
  },
  {
   "cell_type": "code",
   "execution_count": 20,
   "metadata": {},
   "outputs": [
    {
     "data": {
      "text/plain": [
       "State                 object\n",
       "Participation Rate    object\n",
       "EBRW                   int64\n",
       "Math                   int64\n",
       "Total                  int64\n",
       "dtype: object"
      ]
     },
     "execution_count": 20,
     "metadata": {},
     "output_type": "execute_result"
    }
   ],
   "source": [
    "sat_19.dtypes"
   ]
  },
  {
   "cell_type": "code",
   "execution_count": 423,
   "metadata": {},
   "outputs": [
    {
     "data": {
      "text/plain": [
       "state                        0\n",
       "sat_participation            0\n",
       "sat_reading_writing_score    0\n",
       "sat_math_score               0\n",
       "sat_total_score              0\n",
       "dtype: int64"
      ]
     },
     "execution_count": 423,
     "metadata": {},
     "output_type": "execute_result"
    }
   ],
   "source": [
    "sat_19.isnull().sum()"
   ]
  },
  {
   "cell_type": "code",
   "execution_count": 424,
   "metadata": {},
   "outputs": [
    {
     "data": {
      "text/plain": [
       "state                  0\n",
       "act_participation      0\n",
       "act_composite_score    0\n",
       "dtype: int64"
      ]
     },
     "execution_count": 424,
     "metadata": {},
     "output_type": "execute_result"
    }
   ],
   "source": [
    "act_19.isnull().sum()"
   ]
  },
  {
   "cell_type": "code",
   "execution_count": 16,
   "metadata": {},
   "outputs": [
    {
     "data": {
      "text/html": [
       "<div>\n",
       "<style scoped>\n",
       "    .dataframe tbody tr th:only-of-type {\n",
       "        vertical-align: middle;\n",
       "    }\n",
       "\n",
       "    .dataframe tbody tr th {\n",
       "        vertical-align: top;\n",
       "    }\n",
       "\n",
       "    .dataframe thead th {\n",
       "        text-align: right;\n",
       "    }\n",
       "</style>\n",
       "<table border=\"1\" class=\"dataframe\">\n",
       "  <thead>\n",
       "    <tr style=\"text-align: right;\">\n",
       "      <th></th>\n",
       "      <th>State</th>\n",
       "      <th>Participation</th>\n",
       "      <th>Composite</th>\n",
       "    </tr>\n",
       "  </thead>\n",
       "  <tbody>\n",
       "    <tr>\n",
       "      <th>0</th>\n",
       "      <td>Alabama</td>\n",
       "      <td>100%</td>\n",
       "      <td>18.9</td>\n",
       "    </tr>\n",
       "    <tr>\n",
       "      <th>1</th>\n",
       "      <td>Alaska</td>\n",
       "      <td>38%</td>\n",
       "      <td>20.1</td>\n",
       "    </tr>\n",
       "    <tr>\n",
       "      <th>2</th>\n",
       "      <td>Arizona</td>\n",
       "      <td>73%</td>\n",
       "      <td>19.0</td>\n",
       "    </tr>\n",
       "    <tr>\n",
       "      <th>3</th>\n",
       "      <td>Arkansas</td>\n",
       "      <td>100%</td>\n",
       "      <td>19.3</td>\n",
       "    </tr>\n",
       "    <tr>\n",
       "      <th>4</th>\n",
       "      <td>California</td>\n",
       "      <td>23%</td>\n",
       "      <td>22.6</td>\n",
       "    </tr>\n",
       "  </tbody>\n",
       "</table>\n",
       "</div>"
      ],
      "text/plain": [
       "        State Participation  Composite\n",
       "0     Alabama          100%       18.9\n",
       "1      Alaska           38%       20.1\n",
       "2     Arizona           73%       19.0\n",
       "3    Arkansas          100%       19.3\n",
       "4  California           23%       22.6"
      ]
     },
     "execution_count": 16,
     "metadata": {},
     "output_type": "execute_result"
    }
   ],
   "source": [
    "act_19.head()"
   ]
  },
  {
   "cell_type": "code",
   "execution_count": 59,
   "metadata": {},
   "outputs": [
    {
     "data": {
      "text/plain": [
       "state                   object\n",
       "act_participation       object\n",
       "act_composite_score    float64\n",
       "dtype: object"
      ]
     },
     "execution_count": 59,
     "metadata": {},
     "output_type": "execute_result"
    }
   ],
   "source": [
    "act_19.dtypes"
   ]
  },
  {
   "cell_type": "code",
   "execution_count": 58,
   "metadata": {},
   "outputs": [
    {
     "data": {
      "text/html": [
       "<div>\n",
       "<style scoped>\n",
       "    .dataframe tbody tr th:only-of-type {\n",
       "        vertical-align: middle;\n",
       "    }\n",
       "\n",
       "    .dataframe tbody tr th {\n",
       "        vertical-align: top;\n",
       "    }\n",
       "\n",
       "    .dataframe thead th {\n",
       "        text-align: right;\n",
       "    }\n",
       "</style>\n",
       "<table border=\"1\" class=\"dataframe\">\n",
       "  <thead>\n",
       "    <tr style=\"text-align: right;\">\n",
       "      <th></th>\n",
       "      <th>school</th>\n",
       "      <th>optional_test</th>\n",
       "      <th>applies_to_class_years</th>\n",
       "      <th>policy_details</th>\n",
       "      <th>num_applicants</th>\n",
       "      <th>accept_rate</th>\n",
       "      <th>sat_total_25th_to_75th_percentile</th>\n",
       "      <th>act_total_25th_to_75th_percentile</th>\n",
       "    </tr>\n",
       "  </thead>\n",
       "  <tbody>\n",
       "    <tr>\n",
       "      <th>0</th>\n",
       "      <td>Stanford University</td>\n",
       "      <td>Yes</td>\n",
       "      <td>2021</td>\n",
       "      <td>Stanford has adopted a one-year test optional ...</td>\n",
       "      <td>47452</td>\n",
       "      <td>4.3%</td>\n",
       "      <td>1440-1570</td>\n",
       "      <td>32-35</td>\n",
       "    </tr>\n",
       "    <tr>\n",
       "      <th>1</th>\n",
       "      <td>Harvard College</td>\n",
       "      <td>Yes</td>\n",
       "      <td>2021</td>\n",
       "      <td>Harvard has adopted a one-year test optional p...</td>\n",
       "      <td>42749</td>\n",
       "      <td>4.7%</td>\n",
       "      <td>1460-1580</td>\n",
       "      <td>33-35</td>\n",
       "    </tr>\n",
       "    <tr>\n",
       "      <th>2</th>\n",
       "      <td>Princeton University</td>\n",
       "      <td>Yes</td>\n",
       "      <td>2021</td>\n",
       "      <td>Princeton has adopted a one-year test optional...</td>\n",
       "      <td>35370</td>\n",
       "      <td>5.5%</td>\n",
       "      <td>1440-1570</td>\n",
       "      <td>32-35</td>\n",
       "    </tr>\n",
       "    <tr>\n",
       "      <th>3</th>\n",
       "      <td>Columbia University</td>\n",
       "      <td>Yes</td>\n",
       "      <td>2021</td>\n",
       "      <td>Columbia has adopted a one-year test optional ...</td>\n",
       "      <td>40203</td>\n",
       "      <td>5.5%</td>\n",
       "      <td>1450-1560</td>\n",
       "      <td>33-35</td>\n",
       "    </tr>\n",
       "    <tr>\n",
       "      <th>4</th>\n",
       "      <td>Yale University</td>\n",
       "      <td>Yes</td>\n",
       "      <td>2021</td>\n",
       "      <td>Yale has adopted a one-year test optional poli...</td>\n",
       "      <td>36844</td>\n",
       "      <td>6.1%</td>\n",
       "      <td>1460-1570</td>\n",
       "      <td>33-35</td>\n",
       "    </tr>\n",
       "  </tbody>\n",
       "</table>\n",
       "</div>"
      ],
      "text/plain": [
       "                 school optional_test applies_to_class_years  \\\n",
       "0   Stanford University           Yes                   2021   \n",
       "1       Harvard College           Yes                   2021   \n",
       "2  Princeton University           Yes                   2021   \n",
       "3   Columbia University           Yes                   2021   \n",
       "4       Yale University           Yes                   2021   \n",
       "\n",
       "                                      policy_details  num_applicants  \\\n",
       "0  Stanford has adopted a one-year test optional ...           47452   \n",
       "1  Harvard has adopted a one-year test optional p...           42749   \n",
       "2  Princeton has adopted a one-year test optional...           35370   \n",
       "3  Columbia has adopted a one-year test optional ...           40203   \n",
       "4  Yale has adopted a one-year test optional poli...           36844   \n",
       "\n",
       "  accept_rate sat_total_25th_to_75th_percentile  \\\n",
       "0        4.3%                         1440-1570   \n",
       "1        4.7%                         1460-1580   \n",
       "2        5.5%                         1440-1570   \n",
       "3        5.5%                         1450-1560   \n",
       "4        6.1%                         1460-1570   \n",
       "\n",
       "  act_total_25th_to_75th_percentile  \n",
       "0                             32-35  \n",
       "1                             33-35  \n",
       "2                             32-35  \n",
       "3                             33-35  \n",
       "4                             33-35  "
      ]
     },
     "execution_count": 58,
     "metadata": {},
     "output_type": "execute_result"
    }
   ],
   "source": [
    "college.head()"
   ]
  },
  {
   "cell_type": "code",
   "execution_count": 22,
   "metadata": {},
   "outputs": [
    {
     "data": {
      "text/plain": [
       "School                            object\n",
       "Test Optional?                    object\n",
       "Applies to Class Year(s)          object\n",
       "Policy Details                    object\n",
       "Number of Applicants               int64\n",
       "Accept Rate                       object\n",
       "SAT Total 25th-75th Percentile    object\n",
       "ACT Total 25th-75th Percentile    object\n",
       "dtype: object"
      ]
     },
     "execution_count": 22,
     "metadata": {},
     "output_type": "execute_result"
    }
   ],
   "source": [
    "college.dtypes"
   ]
  },
  {
   "cell_type": "code",
   "execution_count": 23,
   "metadata": {},
   "outputs": [
    {
     "data": {
      "text/plain": [
       "School                             0\n",
       "Test Optional?                     0\n",
       "Applies to Class Year(s)          26\n",
       "Policy Details                     0\n",
       "Number of Applicants               0\n",
       "Accept Rate                        0\n",
       "SAT Total 25th-75th Percentile     0\n",
       "ACT Total 25th-75th Percentile     0\n",
       "dtype: int64"
      ]
     },
     "execution_count": 23,
     "metadata": {},
     "output_type": "execute_result"
    }
   ],
   "source": [
    "college.isnull().sum()\n",
    "### Applies to class years column, likely won't apply"
   ]
  },
  {
   "cell_type": "code",
   "execution_count": null,
   "metadata": {},
   "outputs": [],
   "source": [
    "# removing national, puerto rico and virgin islands below, by index value"
   ]
  },
  {
   "cell_type": "code",
   "execution_count": 45,
   "metadata": {},
   "outputs": [],
   "source": [
    "sat_19 = sat_19.drop(sat_19.index[47])"
   ]
  },
  {
   "cell_type": "code",
   "execution_count": 43,
   "metadata": {},
   "outputs": [],
   "source": [
    "sat_19 = sat_19.drop(sat_19.index[39])\n",
    "## Dropping Puerto Rico and Virgin Islands, as I can't compare them to ACT"
   ]
  },
  {
   "cell_type": "code",
   "execution_count": null,
   "metadata": {},
   "outputs": [],
   "source": [
    "college['accept_rate'] = college['accept_rate'].apply(pct_to_float)\n",
    "#Applying Percent to Float for Column 'Accept Rate' in College CSV"
   ]
  },
  {
   "cell_type": "code",
   "execution_count": 60,
   "metadata": {},
   "outputs": [],
   "source": [
    "act_19['act_participation'] = act_19['act_participation'].apply(pct_to_float)\n",
    "#Applying Percent to Float for Column 'act_participation' in ACT2019 CSV"
   ]
  },
  {
   "cell_type": "code",
   "execution_count": 64,
   "metadata": {},
   "outputs": [],
   "source": [
    "sat_19['sat_participation'] = sat_19['sat_participation'].apply(pct_to_float)\n",
    "#Applying Percent to Float for Column 'sat_participation' in SAT2019 CSV"
   ]
  },
  {
   "cell_type": "code",
   "execution_count": 397,
   "metadata": {},
   "outputs": [
    {
     "data": {
      "text/html": [
       "<div>\n",
       "<style scoped>\n",
       "    .dataframe tbody tr th:only-of-type {\n",
       "        vertical-align: middle;\n",
       "    }\n",
       "\n",
       "    .dataframe tbody tr th {\n",
       "        vertical-align: top;\n",
       "    }\n",
       "\n",
       "    .dataframe thead th {\n",
       "        text-align: right;\n",
       "    }\n",
       "</style>\n",
       "<table border=\"1\" class=\"dataframe\">\n",
       "  <thead>\n",
       "    <tr style=\"text-align: right;\">\n",
       "      <th></th>\n",
       "      <th>state</th>\n",
       "      <th>sat_participation</th>\n",
       "      <th>sat_reading_writing_score</th>\n",
       "      <th>sat_math_score</th>\n",
       "      <th>sat_total_score</th>\n",
       "    </tr>\n",
       "  </thead>\n",
       "  <tbody>\n",
       "    <tr>\n",
       "      <th>0</th>\n",
       "      <td>Alabama</td>\n",
       "      <td>0.07</td>\n",
       "      <td>583</td>\n",
       "      <td>560</td>\n",
       "      <td>1143</td>\n",
       "    </tr>\n",
       "    <tr>\n",
       "      <th>1</th>\n",
       "      <td>Alaska</td>\n",
       "      <td>0.41</td>\n",
       "      <td>556</td>\n",
       "      <td>541</td>\n",
       "      <td>1097</td>\n",
       "    </tr>\n",
       "    <tr>\n",
       "      <th>2</th>\n",
       "      <td>Arizona</td>\n",
       "      <td>0.31</td>\n",
       "      <td>569</td>\n",
       "      <td>565</td>\n",
       "      <td>1134</td>\n",
       "    </tr>\n",
       "    <tr>\n",
       "      <th>3</th>\n",
       "      <td>Arkansas</td>\n",
       "      <td>0.06</td>\n",
       "      <td>582</td>\n",
       "      <td>559</td>\n",
       "      <td>1141</td>\n",
       "    </tr>\n",
       "    <tr>\n",
       "      <th>4</th>\n",
       "      <td>California</td>\n",
       "      <td>0.63</td>\n",
       "      <td>534</td>\n",
       "      <td>531</td>\n",
       "      <td>1065</td>\n",
       "    </tr>\n",
       "  </tbody>\n",
       "</table>\n",
       "</div>"
      ],
      "text/plain": [
       "        state  sat_participation  sat_reading_writing_score  sat_math_score  \\\n",
       "0     Alabama               0.07                        583             560   \n",
       "1      Alaska               0.41                        556             541   \n",
       "2     Arizona               0.31                        569             565   \n",
       "3    Arkansas               0.06                        582             559   \n",
       "4  California               0.63                        534             531   \n",
       "\n",
       "   sat_total_score  \n",
       "0             1143  \n",
       "1             1097  \n",
       "2             1134  \n",
       "3             1141  \n",
       "4             1065  "
      ]
     },
     "execution_count": 397,
     "metadata": {},
     "output_type": "execute_result"
    }
   ],
   "source": [
    "sat_19.head()"
   ]
  },
  {
   "cell_type": "code",
   "execution_count": 66,
   "metadata": {},
   "outputs": [],
   "source": [
    "# pulling Ivy Leagues by index locations \n",
    "#(I ended up not using this info but still put it here as I did research it for quite a while)\n",
    "ivy_league = college.iloc[[1, 2, 3, 4, 7, 10, 11, 19], :]"
   ]
  },
  {
   "cell_type": "code",
   "execution_count": 82,
   "metadata": {},
   "outputs": [],
   "source": [
    "ivy_league.to_csv('ivy_league.csv') #saving ivy_league schools to their own csv"
   ]
  },
  {
   "cell_type": "code",
   "execution_count": 67,
   "metadata": {},
   "outputs": [
    {
     "data": {
      "text/html": [
       "<div>\n",
       "<style scoped>\n",
       "    .dataframe tbody tr th:only-of-type {\n",
       "        vertical-align: middle;\n",
       "    }\n",
       "\n",
       "    .dataframe tbody tr th {\n",
       "        vertical-align: top;\n",
       "    }\n",
       "\n",
       "    .dataframe thead th {\n",
       "        text-align: right;\n",
       "    }\n",
       "</style>\n",
       "<table border=\"1\" class=\"dataframe\">\n",
       "  <thead>\n",
       "    <tr style=\"text-align: right;\">\n",
       "      <th></th>\n",
       "      <th>school</th>\n",
       "      <th>optional_test</th>\n",
       "      <th>applies_to_class_years</th>\n",
       "      <th>policy_details</th>\n",
       "      <th>num_applicants</th>\n",
       "      <th>accept_rate</th>\n",
       "      <th>sat_total_25th_to_75th_percentile</th>\n",
       "      <th>act_total_25th_to_75th_percentile</th>\n",
       "    </tr>\n",
       "  </thead>\n",
       "  <tbody>\n",
       "    <tr>\n",
       "      <th>1</th>\n",
       "      <td>Harvard College</td>\n",
       "      <td>Yes</td>\n",
       "      <td>2021</td>\n",
       "      <td>Harvard has adopted a one-year test optional p...</td>\n",
       "      <td>42749</td>\n",
       "      <td>4.7%</td>\n",
       "      <td>1460-1580</td>\n",
       "      <td>33-35</td>\n",
       "    </tr>\n",
       "    <tr>\n",
       "      <th>2</th>\n",
       "      <td>Princeton University</td>\n",
       "      <td>Yes</td>\n",
       "      <td>2021</td>\n",
       "      <td>Princeton has adopted a one-year test optional...</td>\n",
       "      <td>35370</td>\n",
       "      <td>5.5%</td>\n",
       "      <td>1440-1570</td>\n",
       "      <td>32-35</td>\n",
       "    </tr>\n",
       "    <tr>\n",
       "      <th>3</th>\n",
       "      <td>Columbia University</td>\n",
       "      <td>Yes</td>\n",
       "      <td>2021</td>\n",
       "      <td>Columbia has adopted a one-year test optional ...</td>\n",
       "      <td>40203</td>\n",
       "      <td>5.5%</td>\n",
       "      <td>1450-1560</td>\n",
       "      <td>33-35</td>\n",
       "    </tr>\n",
       "    <tr>\n",
       "      <th>4</th>\n",
       "      <td>Yale University</td>\n",
       "      <td>Yes</td>\n",
       "      <td>2021</td>\n",
       "      <td>Yale has adopted a one-year test optional poli...</td>\n",
       "      <td>36844</td>\n",
       "      <td>6.1%</td>\n",
       "      <td>1460-1570</td>\n",
       "      <td>33-35</td>\n",
       "    </tr>\n",
       "    <tr>\n",
       "      <th>7</th>\n",
       "      <td>Brown University</td>\n",
       "      <td>Yes</td>\n",
       "      <td>2021</td>\n",
       "      <td>Brown has adopted a one-year test optional pol...</td>\n",
       "      <td>38674</td>\n",
       "      <td>7.1%</td>\n",
       "      <td>​​ 1440-1570</td>\n",
       "      <td>33-35</td>\n",
       "    </tr>\n",
       "    <tr>\n",
       "      <th>10</th>\n",
       "      <td>University of Pennsylvania</td>\n",
       "      <td>Yes</td>\n",
       "      <td>2021</td>\n",
       "      <td>UPenn has adopted a one-year test optional pol...</td>\n",
       "      <td>44961</td>\n",
       "      <td>7.7%</td>\n",
       "      <td>1450-1560</td>\n",
       "      <td>33-35</td>\n",
       "    </tr>\n",
       "    <tr>\n",
       "      <th>11</th>\n",
       "      <td>Dartmouth College</td>\n",
       "      <td>Yes</td>\n",
       "      <td>2021</td>\n",
       "      <td>Dartmouth has adopted a one-year test optional...</td>\n",
       "      <td>23650</td>\n",
       "      <td>7.9%</td>\n",
       "      <td>1440-1560</td>\n",
       "      <td>32-35</td>\n",
       "    </tr>\n",
       "    <tr>\n",
       "      <th>19</th>\n",
       "      <td>Cornell University</td>\n",
       "      <td>Yes</td>\n",
       "      <td>2021</td>\n",
       "      <td>Cornell has adopted a one-year test optional p...</td>\n",
       "      <td>49114</td>\n",
       "      <td>10.9%</td>\n",
       "      <td>1400-1560</td>\n",
       "      <td>32-35</td>\n",
       "    </tr>\n",
       "  </tbody>\n",
       "</table>\n",
       "</div>"
      ],
      "text/plain": [
       "                        school optional_test applies_to_class_years  \\\n",
       "1              Harvard College           Yes                   2021   \n",
       "2         Princeton University           Yes                   2021   \n",
       "3          Columbia University           Yes                   2021   \n",
       "4              Yale University           Yes                   2021   \n",
       "7             Brown University           Yes                   2021   \n",
       "10  University of Pennsylvania           Yes                   2021   \n",
       "11           Dartmouth College           Yes                   2021   \n",
       "19          Cornell University           Yes                   2021   \n",
       "\n",
       "                                       policy_details  num_applicants  \\\n",
       "1   Harvard has adopted a one-year test optional p...           42749   \n",
       "2   Princeton has adopted a one-year test optional...           35370   \n",
       "3   Columbia has adopted a one-year test optional ...           40203   \n",
       "4   Yale has adopted a one-year test optional poli...           36844   \n",
       "7   Brown has adopted a one-year test optional pol...           38674   \n",
       "10  UPenn has adopted a one-year test optional pol...           44961   \n",
       "11  Dartmouth has adopted a one-year test optional...           23650   \n",
       "19  Cornell has adopted a one-year test optional p...           49114   \n",
       "\n",
       "   accept_rate sat_total_25th_to_75th_percentile  \\\n",
       "1         4.7%                         1460-1580   \n",
       "2         5.5%                         1440-1570   \n",
       "3         5.5%                         1450-1560   \n",
       "4         6.1%                         1460-1570   \n",
       "7         7.1%                      ​​ 1440-1570   \n",
       "10        7.7%                         1450-1560   \n",
       "11        7.9%                         1440-1560   \n",
       "19       10.9%                         1400-1560   \n",
       "\n",
       "   act_total_25th_to_75th_percentile  \n",
       "1                              33-35  \n",
       "2                              32-35  \n",
       "3                              33-35  \n",
       "4                              33-35  \n",
       "7                              33-35  \n",
       "10                             33-35  \n",
       "11                             32-35  \n",
       "19                             32-35  "
      ]
     },
     "execution_count": 67,
     "metadata": {},
     "output_type": "execute_result"
    }
   ],
   "source": [
    "ivy_league # Ivy League schools -- again, ended up not using this information"
   ]
  },
  {
   "cell_type": "code",
   "execution_count": null,
   "metadata": {},
   "outputs": [],
   "source": [
    "df['sat_25th_percentile'] = df.index.astype(str).str[:2]\n",
    "print(df)"
   ]
  },
  {
   "cell_type": "code",
   "execution_count": 69,
   "metadata": {},
   "outputs": [],
   "source": [
    "# Changing columns to lower case -- understanding this is the long way, now\n",
    "college_new_cols = {\n",
    "    'School': 'school',\n",
    "    'Test Optional?': 'optional_test',\n",
    "    'Applies to Class Year(s)': 'applies_to_class_years',\n",
    "    'Policy Details': 'policy_details',\n",
    "    'Number of Applicants': 'num_applicants',\n",
    "    'Accept Rate': 'accept_rate',\n",
    "    'SAT Total 25th-75th Percentile': 'sat_total_25th_to_75th_percentile',\n",
    "    'ACT Total 25th-75th Percentile': 'act_total_25th_to_75th_percentile',\n",
    "}\n",
    "college.rename(columns = college_new_cols, inplace=True)"
   ]
  },
  {
   "cell_type": "code",
   "execution_count": 51,
   "metadata": {},
   "outputs": [],
   "source": [
    "act_19_new_cols = {\n",
    "    'State': 'state',\n",
    "    'Participation': 'act_participation',\n",
    "    'Composite': 'act_composite_score',\n",
    "}\n",
    "act_19.rename(columns = act_19_new_cols, inplace=True)"
   ]
  },
  {
   "cell_type": "code",
   "execution_count": 50,
   "metadata": {},
   "outputs": [],
   "source": [
    "sat_19_new_cols = {\n",
    "    'State': 'state',\n",
    "    'Participation Rate': 'sat_participation',\n",
    "    'EBRW': 'sat_reading_writing_score',\n",
    "    'Math': 'sat_math_score',\n",
    "    'Total': 'sat_total_score',\n",
    "}\n",
    "sat_19.rename(columns = sat_19_new_cols, inplace=True)"
   ]
  },
  {
   "cell_type": "code",
   "execution_count": 70,
   "metadata": {},
   "outputs": [],
   "source": [
    "tests_merged = pd.merge(left = act_19, right = sat_19, left_on = 'state', right_on = 'state')\n",
    "\n",
    "# Merging ACT and SAT test data"
   ]
  },
  {
   "cell_type": "code",
   "execution_count": 83,
   "metadata": {},
   "outputs": [],
   "source": [
    "tests_merged.to_csv('tests_merged.csv')\n",
    "\n",
    "# Saving merged df to csv"
   ]
  },
  {
   "cell_type": "code",
   "execution_count": 398,
   "metadata": {},
   "outputs": [
    {
     "data": {
      "text/html": [
       "<div>\n",
       "<style scoped>\n",
       "    .dataframe tbody tr th:only-of-type {\n",
       "        vertical-align: middle;\n",
       "    }\n",
       "\n",
       "    .dataframe tbody tr th {\n",
       "        vertical-align: top;\n",
       "    }\n",
       "\n",
       "    .dataframe thead th {\n",
       "        text-align: right;\n",
       "    }\n",
       "</style>\n",
       "<table border=\"1\" class=\"dataframe\">\n",
       "  <thead>\n",
       "    <tr style=\"text-align: right;\">\n",
       "      <th></th>\n",
       "      <th>state</th>\n",
       "      <th>act_participation</th>\n",
       "      <th>act_composite_score</th>\n",
       "      <th>sat_participation</th>\n",
       "      <th>sat_reading_writing_score</th>\n",
       "      <th>sat_math_score</th>\n",
       "      <th>sat_total_score</th>\n",
       "    </tr>\n",
       "  </thead>\n",
       "  <tbody>\n",
       "    <tr>\n",
       "      <th>0</th>\n",
       "      <td>Alabama</td>\n",
       "      <td>1.00</td>\n",
       "      <td>18.9</td>\n",
       "      <td>0.07</td>\n",
       "      <td>583</td>\n",
       "      <td>560</td>\n",
       "      <td>1143</td>\n",
       "    </tr>\n",
       "    <tr>\n",
       "      <th>1</th>\n",
       "      <td>Alaska</td>\n",
       "      <td>0.38</td>\n",
       "      <td>20.1</td>\n",
       "      <td>0.41</td>\n",
       "      <td>556</td>\n",
       "      <td>541</td>\n",
       "      <td>1097</td>\n",
       "    </tr>\n",
       "    <tr>\n",
       "      <th>2</th>\n",
       "      <td>Arizona</td>\n",
       "      <td>0.73</td>\n",
       "      <td>19.0</td>\n",
       "      <td>0.31</td>\n",
       "      <td>569</td>\n",
       "      <td>565</td>\n",
       "      <td>1134</td>\n",
       "    </tr>\n",
       "    <tr>\n",
       "      <th>3</th>\n",
       "      <td>Arkansas</td>\n",
       "      <td>1.00</td>\n",
       "      <td>19.3</td>\n",
       "      <td>0.06</td>\n",
       "      <td>582</td>\n",
       "      <td>559</td>\n",
       "      <td>1141</td>\n",
       "    </tr>\n",
       "    <tr>\n",
       "      <th>4</th>\n",
       "      <td>California</td>\n",
       "      <td>0.23</td>\n",
       "      <td>22.6</td>\n",
       "      <td>0.63</td>\n",
       "      <td>534</td>\n",
       "      <td>531</td>\n",
       "      <td>1065</td>\n",
       "    </tr>\n",
       "  </tbody>\n",
       "</table>\n",
       "</div>"
      ],
      "text/plain": [
       "        state  act_participation  act_composite_score  sat_participation  \\\n",
       "0     Alabama               1.00                 18.9               0.07   \n",
       "1      Alaska               0.38                 20.1               0.41   \n",
       "2     Arizona               0.73                 19.0               0.31   \n",
       "3    Arkansas               1.00                 19.3               0.06   \n",
       "4  California               0.23                 22.6               0.63   \n",
       "\n",
       "   sat_reading_writing_score  sat_math_score  sat_total_score  \n",
       "0                        583             560             1143  \n",
       "1                        556             541             1097  \n",
       "2                        569             565             1134  \n",
       "3                        582             559             1141  \n",
       "4                        534             531             1065  "
      ]
     },
     "execution_count": 398,
     "metadata": {},
     "output_type": "execute_result"
    }
   ],
   "source": [
    "tests_merged.head()"
   ]
  },
  {
   "cell_type": "code",
   "execution_count": 98,
   "metadata": {},
   "outputs": [],
   "source": [
    "act_reqd = tests_merged.iloc[[0,11,12,17,18,24,25,26,27,28,33,34,35,40,42,44,49,50], :]\n",
    "\n",
    "# pulling states that require ACT/SAT for my final problem statement by index locations shown below"
   ]
  },
  {
   "cell_type": "code",
   "execution_count": 414,
   "metadata": {},
   "outputs": [],
   "source": [
    "act_reqd.to_csv('ACT_Required.csv') #Saving ACT Required States to CSV"
   ]
  },
  {
   "cell_type": "code",
   "execution_count": 350,
   "metadata": {},
   "outputs": [],
   "source": [
    "sat_reqd = tests_merged.iloc[[5,6,7,8,12,13,19,22,29,35,42], :]"
   ]
  },
  {
   "cell_type": "code",
   "execution_count": 416,
   "metadata": {},
   "outputs": [],
   "source": [
    "sat_reqd.to_csv('SAT_Required.csv')  #Saving SAT Required States to CSV"
   ]
  },
  {
   "cell_type": "code",
   "execution_count": 97,
   "metadata": {},
   "outputs": [
    {
     "data": {
      "text/plain": [
       "'States that require the ACT:\\nAlabama\\nHawaii\\nIdaho\\nKentucky\\nLouisiana\\nMississippi\\nMissouri\\nMontana\\nNebraska\\nNevada\\nNorth Carolina\\nNorth Dakota\\nOhio\\nSouth Carolina\\nTennessee\\nUtah\\nWisconsin\\nWyoming\\nStates that require the SAT:\\nColorado\\nConnecticut\\nDelaware\\nDistrict of Columbia\\nIdaho\\nIllinois\\nMaine\\nMichigan\\nNew Hampshire\\nOhio\\nTennessee'"
      ]
     },
     "execution_count": 97,
     "metadata": {},
     "output_type": "execute_result"
    }
   ],
   "source": [
    "\"\"\"States that require the ACT: #INDEX LOCATIONS\n",
    "Alabama [0]\n",
    "Hawaii [[11]\n",
    "Idaho 12\n",
    "Kentucky 17\n",
    "Louisiana 18\n",
    "Mississippi 24\n",
    "Missouri 25\n",
    "Montana 26\n",
    "Nebraska 27\n",
    "Nevada 28\n",
    "North Carolina 33\n",
    "North Dakota 34\n",
    "Ohio 35\n",
    "South Carolina 40\n",
    "Tennessee 42\n",
    "Utah 44\n",
    "Wisconsin 49 \n",
    "Wyoming 50\n",
    "States that require the SAT:\n",
    "Colorado 5\n",
    "Connecticut 6\n",
    "Delaware 7\n",
    "District of Columbia 8\n",
    "Idaho 12\n",
    "Illinois 13\n",
    "Maine 19\n",
    "Michigan 22\n",
    "New Hampshire 29\n",
    "Ohio 35\n",
    "Tennessee 42\"\"\""
   ]
  },
  {
   "cell_type": "code",
   "execution_count": 353,
   "metadata": {},
   "outputs": [],
   "source": [
    "act_not_reqd = tests_merged.drop([0,11,12,17,18,24,25,26,27,28,33,34,35,40,42,44,49,50])\n",
    "#Creating lists for states that don't require SAT/ACT by dropping the states that do require"
   ]
  },
  {
   "cell_type": "code",
   "execution_count": null,
   "metadata": {},
   "outputs": [],
   "source": [
    "act_not_reqd.to_csv('ACT_not_Required.csv')  #Saving ACT Not Required States to CSV"
   ]
  },
  {
   "cell_type": "code",
   "execution_count": 117,
   "metadata": {},
   "outputs": [],
   "source": [
    "sat_not_reqd = tests_merged.drop([5,6,7,8,12,13,19,22,29,35,42])"
   ]
  },
  {
   "cell_type": "code",
   "execution_count": 413,
   "metadata": {},
   "outputs": [],
   "source": [
    "sat_not_reqd.to_csv('SAT_not_Required.csv') #Saving SAT Not Required States to CSV"
   ]
  },
  {
   "cell_type": "code",
   "execution_count": 425,
   "metadata": {},
   "outputs": [
    {
     "data": {
      "text/html": [
       "<div>\n",
       "<style scoped>\n",
       "    .dataframe tbody tr th:only-of-type {\n",
       "        vertical-align: middle;\n",
       "    }\n",
       "\n",
       "    .dataframe tbody tr th {\n",
       "        vertical-align: top;\n",
       "    }\n",
       "\n",
       "    .dataframe thead th {\n",
       "        text-align: right;\n",
       "    }\n",
       "</style>\n",
       "<table border=\"1\" class=\"dataframe\">\n",
       "  <thead>\n",
       "    <tr style=\"text-align: right;\">\n",
       "      <th></th>\n",
       "      <th>state</th>\n",
       "      <th>act_participation</th>\n",
       "      <th>act_composite_score</th>\n",
       "      <th>sat_participation</th>\n",
       "      <th>sat_reading_writing_score</th>\n",
       "      <th>sat_math_score</th>\n",
       "      <th>sat_total_score</th>\n",
       "    </tr>\n",
       "  </thead>\n",
       "  <tbody>\n",
       "    <tr>\n",
       "      <th>0</th>\n",
       "      <td>Alabama</td>\n",
       "      <td>1.00</td>\n",
       "      <td>18.9</td>\n",
       "      <td>0.07</td>\n",
       "      <td>583</td>\n",
       "      <td>560</td>\n",
       "      <td>1143</td>\n",
       "    </tr>\n",
       "    <tr>\n",
       "      <th>11</th>\n",
       "      <td>Hawaii</td>\n",
       "      <td>0.80</td>\n",
       "      <td>19.0</td>\n",
       "      <td>0.54</td>\n",
       "      <td>550</td>\n",
       "      <td>550</td>\n",
       "      <td>1100</td>\n",
       "    </tr>\n",
       "    <tr>\n",
       "      <th>12</th>\n",
       "      <td>Idaho</td>\n",
       "      <td>0.31</td>\n",
       "      <td>22.5</td>\n",
       "      <td>1.00</td>\n",
       "      <td>505</td>\n",
       "      <td>488</td>\n",
       "      <td>993</td>\n",
       "    </tr>\n",
       "    <tr>\n",
       "      <th>17</th>\n",
       "      <td>Kentucky</td>\n",
       "      <td>1.00</td>\n",
       "      <td>19.8</td>\n",
       "      <td>0.04</td>\n",
       "      <td>620</td>\n",
       "      <td>612</td>\n",
       "      <td>1232</td>\n",
       "    </tr>\n",
       "    <tr>\n",
       "      <th>18</th>\n",
       "      <td>Louisiana</td>\n",
       "      <td>1.00</td>\n",
       "      <td>18.8</td>\n",
       "      <td>0.05</td>\n",
       "      <td>610</td>\n",
       "      <td>591</td>\n",
       "      <td>1200</td>\n",
       "    </tr>\n",
       "  </tbody>\n",
       "</table>\n",
       "</div>"
      ],
      "text/plain": [
       "        state  act_participation  act_composite_score  sat_participation  \\\n",
       "0     Alabama               1.00                 18.9               0.07   \n",
       "11     Hawaii               0.80                 19.0               0.54   \n",
       "12      Idaho               0.31                 22.5               1.00   \n",
       "17   Kentucky               1.00                 19.8               0.04   \n",
       "18  Louisiana               1.00                 18.8               0.05   \n",
       "\n",
       "    sat_reading_writing_score  sat_math_score  sat_total_score  \n",
       "0                         583             560             1143  \n",
       "11                        550             550             1100  \n",
       "12                        505             488              993  \n",
       "17                        620             612             1232  \n",
       "18                        610             591             1200  "
      ]
     },
     "execution_count": 425,
     "metadata": {},
     "output_type": "execute_result"
    }
   ],
   "source": [
    "# Next 4 cells showing heads of each new dataset created\n",
    "act_reqd.head()"
   ]
  },
  {
   "cell_type": "code",
   "execution_count": 426,
   "metadata": {},
   "outputs": [
    {
     "data": {
      "text/html": [
       "<div>\n",
       "<style scoped>\n",
       "    .dataframe tbody tr th:only-of-type {\n",
       "        vertical-align: middle;\n",
       "    }\n",
       "\n",
       "    .dataframe tbody tr th {\n",
       "        vertical-align: top;\n",
       "    }\n",
       "\n",
       "    .dataframe thead th {\n",
       "        text-align: right;\n",
       "    }\n",
       "</style>\n",
       "<table border=\"1\" class=\"dataframe\">\n",
       "  <thead>\n",
       "    <tr style=\"text-align: right;\">\n",
       "      <th></th>\n",
       "      <th>state</th>\n",
       "      <th>act_participation</th>\n",
       "      <th>act_composite_score</th>\n",
       "      <th>sat_participation</th>\n",
       "      <th>sat_reading_writing_score</th>\n",
       "      <th>sat_math_score</th>\n",
       "      <th>sat_total_score</th>\n",
       "    </tr>\n",
       "  </thead>\n",
       "  <tbody>\n",
       "    <tr>\n",
       "      <th>1</th>\n",
       "      <td>Alaska</td>\n",
       "      <td>0.38</td>\n",
       "      <td>20.1</td>\n",
       "      <td>0.41</td>\n",
       "      <td>556</td>\n",
       "      <td>541</td>\n",
       "      <td>1097</td>\n",
       "    </tr>\n",
       "    <tr>\n",
       "      <th>2</th>\n",
       "      <td>Arizona</td>\n",
       "      <td>0.73</td>\n",
       "      <td>19.0</td>\n",
       "      <td>0.31</td>\n",
       "      <td>569</td>\n",
       "      <td>565</td>\n",
       "      <td>1134</td>\n",
       "    </tr>\n",
       "    <tr>\n",
       "      <th>3</th>\n",
       "      <td>Arkansas</td>\n",
       "      <td>1.00</td>\n",
       "      <td>19.3</td>\n",
       "      <td>0.06</td>\n",
       "      <td>582</td>\n",
       "      <td>559</td>\n",
       "      <td>1141</td>\n",
       "    </tr>\n",
       "    <tr>\n",
       "      <th>4</th>\n",
       "      <td>California</td>\n",
       "      <td>0.23</td>\n",
       "      <td>22.6</td>\n",
       "      <td>0.63</td>\n",
       "      <td>534</td>\n",
       "      <td>531</td>\n",
       "      <td>1065</td>\n",
       "    </tr>\n",
       "    <tr>\n",
       "      <th>5</th>\n",
       "      <td>Colorado</td>\n",
       "      <td>0.27</td>\n",
       "      <td>23.8</td>\n",
       "      <td>1.00</td>\n",
       "      <td>518</td>\n",
       "      <td>506</td>\n",
       "      <td>1024</td>\n",
       "    </tr>\n",
       "  </tbody>\n",
       "</table>\n",
       "</div>"
      ],
      "text/plain": [
       "        state  act_participation  act_composite_score  sat_participation  \\\n",
       "1      Alaska               0.38                 20.1               0.41   \n",
       "2     Arizona               0.73                 19.0               0.31   \n",
       "3    Arkansas               1.00                 19.3               0.06   \n",
       "4  California               0.23                 22.6               0.63   \n",
       "5    Colorado               0.27                 23.8               1.00   \n",
       "\n",
       "   sat_reading_writing_score  sat_math_score  sat_total_score  \n",
       "1                        556             541             1097  \n",
       "2                        569             565             1134  \n",
       "3                        582             559             1141  \n",
       "4                        534             531             1065  \n",
       "5                        518             506             1024  "
      ]
     },
     "execution_count": 426,
     "metadata": {},
     "output_type": "execute_result"
    }
   ],
   "source": [
    "act_not_reqd.head()"
   ]
  },
  {
   "cell_type": "code",
   "execution_count": 427,
   "metadata": {},
   "outputs": [
    {
     "data": {
      "text/html": [
       "<div>\n",
       "<style scoped>\n",
       "    .dataframe tbody tr th:only-of-type {\n",
       "        vertical-align: middle;\n",
       "    }\n",
       "\n",
       "    .dataframe tbody tr th {\n",
       "        vertical-align: top;\n",
       "    }\n",
       "\n",
       "    .dataframe thead th {\n",
       "        text-align: right;\n",
       "    }\n",
       "</style>\n",
       "<table border=\"1\" class=\"dataframe\">\n",
       "  <thead>\n",
       "    <tr style=\"text-align: right;\">\n",
       "      <th></th>\n",
       "      <th>state</th>\n",
       "      <th>act_participation</th>\n",
       "      <th>act_composite_score</th>\n",
       "      <th>sat_participation</th>\n",
       "      <th>sat_reading_writing_score</th>\n",
       "      <th>sat_math_score</th>\n",
       "      <th>sat_total_score</th>\n",
       "    </tr>\n",
       "  </thead>\n",
       "  <tbody>\n",
       "    <tr>\n",
       "      <th>5</th>\n",
       "      <td>Colorado</td>\n",
       "      <td>0.27</td>\n",
       "      <td>23.8</td>\n",
       "      <td>1.00</td>\n",
       "      <td>518</td>\n",
       "      <td>506</td>\n",
       "      <td>1024</td>\n",
       "    </tr>\n",
       "    <tr>\n",
       "      <th>6</th>\n",
       "      <td>Connecticut</td>\n",
       "      <td>0.22</td>\n",
       "      <td>25.5</td>\n",
       "      <td>1.00</td>\n",
       "      <td>529</td>\n",
       "      <td>516</td>\n",
       "      <td>1046</td>\n",
       "    </tr>\n",
       "    <tr>\n",
       "      <th>7</th>\n",
       "      <td>Delaware</td>\n",
       "      <td>0.13</td>\n",
       "      <td>24.1</td>\n",
       "      <td>1.00</td>\n",
       "      <td>499</td>\n",
       "      <td>486</td>\n",
       "      <td>985</td>\n",
       "    </tr>\n",
       "    <tr>\n",
       "      <th>8</th>\n",
       "      <td>District of Columbia</td>\n",
       "      <td>0.32</td>\n",
       "      <td>23.5</td>\n",
       "      <td>0.94</td>\n",
       "      <td>495</td>\n",
       "      <td>480</td>\n",
       "      <td>975</td>\n",
       "    </tr>\n",
       "    <tr>\n",
       "      <th>12</th>\n",
       "      <td>Idaho</td>\n",
       "      <td>0.31</td>\n",
       "      <td>22.5</td>\n",
       "      <td>1.00</td>\n",
       "      <td>505</td>\n",
       "      <td>488</td>\n",
       "      <td>993</td>\n",
       "    </tr>\n",
       "  </tbody>\n",
       "</table>\n",
       "</div>"
      ],
      "text/plain": [
       "                   state  act_participation  act_composite_score  \\\n",
       "5               Colorado               0.27                 23.8   \n",
       "6            Connecticut               0.22                 25.5   \n",
       "7               Delaware               0.13                 24.1   \n",
       "8   District of Columbia               0.32                 23.5   \n",
       "12                 Idaho               0.31                 22.5   \n",
       "\n",
       "    sat_participation  sat_reading_writing_score  sat_math_score  \\\n",
       "5                1.00                        518             506   \n",
       "6                1.00                        529             516   \n",
       "7                1.00                        499             486   \n",
       "8                0.94                        495             480   \n",
       "12               1.00                        505             488   \n",
       "\n",
       "    sat_total_score  \n",
       "5              1024  \n",
       "6              1046  \n",
       "7               985  \n",
       "8               975  \n",
       "12              993  "
      ]
     },
     "execution_count": 427,
     "metadata": {},
     "output_type": "execute_result"
    }
   ],
   "source": [
    "sat_reqd.head()"
   ]
  },
  {
   "cell_type": "code",
   "execution_count": 428,
   "metadata": {},
   "outputs": [
    {
     "data": {
      "text/html": [
       "<div>\n",
       "<style scoped>\n",
       "    .dataframe tbody tr th:only-of-type {\n",
       "        vertical-align: middle;\n",
       "    }\n",
       "\n",
       "    .dataframe tbody tr th {\n",
       "        vertical-align: top;\n",
       "    }\n",
       "\n",
       "    .dataframe thead th {\n",
       "        text-align: right;\n",
       "    }\n",
       "</style>\n",
       "<table border=\"1\" class=\"dataframe\">\n",
       "  <thead>\n",
       "    <tr style=\"text-align: right;\">\n",
       "      <th></th>\n",
       "      <th>state</th>\n",
       "      <th>act_participation</th>\n",
       "      <th>act_composite_score</th>\n",
       "      <th>sat_participation</th>\n",
       "      <th>sat_reading_writing_score</th>\n",
       "      <th>sat_math_score</th>\n",
       "      <th>sat_total_score</th>\n",
       "    </tr>\n",
       "  </thead>\n",
       "  <tbody>\n",
       "    <tr>\n",
       "      <th>0</th>\n",
       "      <td>Alabama</td>\n",
       "      <td>1.00</td>\n",
       "      <td>18.9</td>\n",
       "      <td>0.07</td>\n",
       "      <td>583</td>\n",
       "      <td>560</td>\n",
       "      <td>1143</td>\n",
       "    </tr>\n",
       "    <tr>\n",
       "      <th>1</th>\n",
       "      <td>Alaska</td>\n",
       "      <td>0.38</td>\n",
       "      <td>20.1</td>\n",
       "      <td>0.41</td>\n",
       "      <td>556</td>\n",
       "      <td>541</td>\n",
       "      <td>1097</td>\n",
       "    </tr>\n",
       "    <tr>\n",
       "      <th>2</th>\n",
       "      <td>Arizona</td>\n",
       "      <td>0.73</td>\n",
       "      <td>19.0</td>\n",
       "      <td>0.31</td>\n",
       "      <td>569</td>\n",
       "      <td>565</td>\n",
       "      <td>1134</td>\n",
       "    </tr>\n",
       "    <tr>\n",
       "      <th>3</th>\n",
       "      <td>Arkansas</td>\n",
       "      <td>1.00</td>\n",
       "      <td>19.3</td>\n",
       "      <td>0.06</td>\n",
       "      <td>582</td>\n",
       "      <td>559</td>\n",
       "      <td>1141</td>\n",
       "    </tr>\n",
       "    <tr>\n",
       "      <th>4</th>\n",
       "      <td>California</td>\n",
       "      <td>0.23</td>\n",
       "      <td>22.6</td>\n",
       "      <td>0.63</td>\n",
       "      <td>534</td>\n",
       "      <td>531</td>\n",
       "      <td>1065</td>\n",
       "    </tr>\n",
       "  </tbody>\n",
       "</table>\n",
       "</div>"
      ],
      "text/plain": [
       "        state  act_participation  act_composite_score  sat_participation  \\\n",
       "0     Alabama               1.00                 18.9               0.07   \n",
       "1      Alaska               0.38                 20.1               0.41   \n",
       "2     Arizona               0.73                 19.0               0.31   \n",
       "3    Arkansas               1.00                 19.3               0.06   \n",
       "4  California               0.23                 22.6               0.63   \n",
       "\n",
       "   sat_reading_writing_score  sat_math_score  sat_total_score  \n",
       "0                        583             560             1143  \n",
       "1                        556             541             1097  \n",
       "2                        569             565             1134  \n",
       "3                        582             559             1141  \n",
       "4                        534             531             1065  "
      ]
     },
     "execution_count": 428,
     "metadata": {},
     "output_type": "execute_result"
    }
   ],
   "source": [
    "sat_not_reqd.head()"
   ]
  },
  {
   "cell_type": "markdown",
   "metadata": {},
   "source": [
    "### Data Dictionary\n",
    "\n",
    "Now that we've fixed our data, and given it appropriate names, let's create a [data dictionary](http://library.ucmerced.edu/node/10249). \n",
    "\n",
    "A data dictionary provides a quick overview of features/variables/columns, alongside data types and descriptions. The more descriptive you can be, the more useful this document is.\n",
    "\n",
    "Example of a Fictional Data Dictionary Entry: \n",
    "\n",
    "|Feature|Type|Dataset|Description|\n",
    "|---|---|---|---|\n",
    "|**county_pop**|*integer*|2010 census|The population of the county (units in thousands, where 2.5 represents 2500 people).| \n",
    "|**per_poverty**|*float*|2010 census|The percent of the county over the age of 18 living below the 200% of official US poverty rate (units percent to two decimal places 98.10 means 98.1%)|\n",
    "\n",
    "[Here's a quick link to a short guide for formatting markdown in Jupyter notebooks](https://jupyter-notebook.readthedocs.io/en/stable/examples/Notebook/Working%20With%20Markdown%20Cells.html).\n",
    "\n",
    "Provided is the skeleton for formatting a markdown table, with columns headers that will help you create a data dictionary to quickly summarize your data, as well as some examples. **This would be a great thing to copy and paste into your custom README for this project.**\n",
    "\n",
    "*Note*: if you are unsure of what a feature is, check the source of the data! This can be found in the README."
   ]
  },
  {
   "cell_type": "markdown",
   "metadata": {},
   "source": [
    "|Feature|Type|Dataset|Description|\n",
    "|---|---|---|---|\n",
    "|**state**|*object*|act_19|States included in the ACT 2019 dataset|\n",
    "|**act_participation**|*float*|act_19|Participation rate on the 2019 ACT|\n",
    "|**act_composite_score**|*float*|act_19|Average student composite scores on the 2019 ACT|\n",
    "|**state**|*object*|sat_19|States included in the ACT 2019 dataset|\n",
    "|**sat_participation**|*float*|sat_19|SAT 2019 Participation Rate|\n",
    "|**sat_reading_writing_score**|*int*|sat_19|2019 SAT Evidence Based Reading & Writing Scores|\n",
    "|**sat_math_score**|*int*|sat_19|2019 SAT Math Scores|\n",
    "|**sat_total_score**|*int*|sat_19|2019 SAT Total Score|\n",
    "|**state**|*object*|tests_merged|States for both 2019 ACTs and SATs|\n",
    "|**act_participation**|*float*|tests_merged|Participation rate on the 2019 ACT|\n",
    "|**act_composite_score**|*float*|tests_merged|Average student composite scores on the 2019 ACT|\n",
    "|**sat_participation**|*float*|tests_merged|SAT 2019 Participation Rate|\n",
    "|**sat_reading_writing_score**|*int*|tests_merged|2019 SAT Evidence Based Reading & Writing Scores|\n",
    "|**sat_math_score**|*int*|tests_merged|2019 SAT Math Scores|\n",
    "|**sat_total_score**|*int*|tests_merged|2019 SAT Total Score|\n",
    "|**state**|*object*|act_reqd|States that require the ACTs|\n",
    "|**act_participation**|*float*|act_reqd|Participation rate on the ACT in States that Require it|\n",
    "|**act_composite_score**|*float*|act_reqd|Average student composite scores on the ACT in States that Require it|\n",
    "|**sat_participation**|*float*|act_reqd|SAT 2019 Participation Rate in States that Require the ACT|\n",
    "|**sat_reading_writing_score**|*int*|act_reqd|2019 SAT Evidence Based Reading & Writing Scores in States that Require the ACT|\n",
    "|**sat_math_score**|*int*|act_reqd|2019 SAT Math Scores in States that Require the ACT|\n",
    "|**sat_total_score**|*int*|act_reqd|2019 SAT Total Score in States that Require the ACT|\n",
    "|**state**|*object*|act_not_reqd|States that Don't require the ACT|\n",
    "|**act_participation**|*float*|act_not_reqd|Participation rate on the ACT in States that Don't Require it|\n",
    "|**act_composite_score**|*float*|act_not_reqd|Average student composite scores on the 2019 ACT in States that Don't Require it|\n",
    "|**sat_participation**|*float*|act_not_reqd|SAT 2019 Participation Rate in States that Don't Require the ACT|\n",
    "|**sat_reading_writing_score**|*int*|act_not_reqd|2019 SAT Evidence Based Reading & Writing Scores in States that Don't Require the ACT|\n",
    "|**sat_math_score**|*int*|act_not_reqd|2019 SAT Math Scores in States that Don't Require the ACT|\n",
    "|**sat_total_score**|*int*|act_not_reqd|2019 SAT Total Score in States that Don't Require the ACT|\n",
    "|**state**|*object*|sat_reqd|States that Require the SAT|\n",
    "|**act_participation**|*float*|sat_reqd|Participation rate on the ACT in States that Require SAT|\n",
    "|**act_composite_score**|*float*|sat_reqd|Average student composite scores on the 2019 ACT in States that Require SAT|\n",
    "|**sat_participation**|*float*|sat_reqd|SAT 2019 Participation Rate in States that Require it|\n",
    "|**sat_reading_writing_score**|*int*|sat_reqd|2019 SAT Evidence Based Reading & Writing Scores in States that Require it|\n",
    "|**sat_math_score**|*int*|sat_reqd|2019 SAT Math Scores in States that Require it|\n",
    "|**sat_total_score**|*int*|sat_reqd|2019 SAT Total Score in States that Require it|\n",
    "|**state**|*object*|sat_not_reqd|States that Require the SAT|\n",
    "|**act_participation**|*float*|sat_not_reqd|Participation rate on the ACT in States that Don't Require the SAT|\n",
    "|**act_composite_score**|*float*|sat_not_reqd|Average student composite scores on the 2019 ACT in States that Don't Require the SAT|\n",
    "|**sat_participation**|*float*|sat_not_reqd|SAT 2019 Participation Rate in States that Don't Require it|\n",
    "|**sat_reading_writing_score**|*int*|sat_not_reqd|2019 SAT Evidence Based Reading & Writing Scores in States that Don't Require it|\n",
    "|**sat_math_score**|*int*|sat_not_reqd|2019 SAT Math Scores in States that Don't Require it|\n",
    "|**sat_total_score**|*int*|sat_not_reqd|2019 SAT Total Score in States that Don't Require it|"
   ]
  },
  {
   "cell_type": "code",
   "execution_count": 439,
   "metadata": {},
   "outputs": [
    {
     "data": {
      "text/plain": [
       "state                         object\n",
       "act_participation            float64\n",
       "act_composite_score          float64\n",
       "sat_participation            float64\n",
       "sat_reading_writing_score      int64\n",
       "sat_math_score                 int64\n",
       "sat_total_score                int64\n",
       "dtype: object"
      ]
     },
     "execution_count": 439,
     "metadata": {},
     "output_type": "execute_result"
    }
   ],
   "source": [
    "sat_not_reqd.dtypes"
   ]
  },
  {
   "cell_type": "markdown",
   "metadata": {},
   "source": [
    "## Exploratory Data Analysis\n",
    "\n",
    "Complete the following steps to explore your data. You are welcome to do more EDA than the steps outlined here as you feel necessary:\n",
    "1. Summary Statistics.\n",
    "2. Use a **dictionary comprehension** to apply the standard deviation function you create in part 1 to each numeric column in the dataframe.  **No loops**.\n",
    "    - Assign the output to variable `sd` as a dictionary where: \n",
    "        - Each column name is now a key \n",
    "        - That standard deviation of the column is the value \n",
    "        - *Example Output :* `{'ACT_Math': 120, 'ACT_Reading': 120, ...}`\n",
    "3. Investigate trends in the data.\n",
    "    - Using sorting and/or masking (along with the `.head()` method to avoid printing our entire dataframe), consider questions relevant to your problem statement. Some examples are provided below (but feel free to change these questions for your specific problem):\n",
    "        - Which states have the highest and lowest participation rates for the 2017, 2019, or 2019 SAT and ACT?\n",
    "        - Which states have the highest and lowest mean total/composite scores for the 2017, 2019, or 2019 SAT and ACT?\n",
    "        - Do any states with 100% participation on a given test have a rate change year-to-year?\n",
    "        - Do any states show have >50% participation on *both* tests each year?\n",
    "        - Which colleges have the highest median SAT and ACT scores for admittance?\n",
    "        - Which California school districts have the highest and lowest mean test scores?\n",
    "    - **You should comment on your findings at each step in a markdown cell below your code block**. Make sure you include at least one example of sorting your dataframe by a column, and one example of using boolean filtering (i.e., masking) to select a subset of the dataframe."
   ]
  },
  {
   "cell_type": "code",
   "execution_count": 178,
   "metadata": {},
   "outputs": [],
   "source": [
    "sd = tests_merged[['act_composite_score', \n",
    "                        'sat_total_score', \n",
    "                        'act_participation',\n",
    "                        'sat_participation']].to_dict(\"list\")\n",
    "\n",
    "# Creating dictionary based on my merged-tests dataframe"
   ]
  },
  {
   "cell_type": "code",
   "execution_count": 179,
   "metadata": {},
   "outputs": [],
   "source": [
    "sd = {key:std_dev(value) for key, value in tests_merged_dict.items()}"
   ]
  },
  {
   "cell_type": "code",
   "execution_count": 431,
   "metadata": {},
   "outputs": [
    {
     "data": {
      "text/plain": [
       "{'act_composite_score': 2.172901153595978,\n",
       " 'sat_total_score': 96.24027185617864,\n",
       " 'act_participation': 0.3417582373703047,\n",
       " 'sat_participation': 0.3836584048685726}"
      ]
     },
     "execution_count": 431,
     "metadata": {},
     "output_type": "execute_result"
    }
   ],
   "source": [
    "sd"
   ]
  },
  {
   "cell_type": "code",
   "execution_count": 306,
   "metadata": {},
   "outputs": [],
   "source": [
    "act_reqd_dict = act_reqd[['act_composite_score', \n",
    "                        'act_participation']].to_dict(\"list\")\n",
    "\n",
    "# Creating dictionaries for ACT/SAT Required and Not Required dataframes"
   ]
  },
  {
   "cell_type": "code",
   "execution_count": 307,
   "metadata": {},
   "outputs": [],
   "source": [
    "act_reqd_dict = {key:std_dev(value) for key, value in act_reqd_dict.items()}"
   ]
  },
  {
   "cell_type": "code",
   "execution_count": 308,
   "metadata": {},
   "outputs": [
    {
     "data": {
      "text/plain": [
       "{'act_composite_score': 1.0055402085998908,\n",
       " 'act_participation': 0.16670462530705446}"
      ]
     },
     "execution_count": 308,
     "metadata": {},
     "output_type": "execute_result"
    }
   ],
   "source": [
    "act_reqd_dict"
   ]
  },
  {
   "cell_type": "code",
   "execution_count": 404,
   "metadata": {},
   "outputs": [],
   "source": [
    "sat_reqd_dict = sat_reqd[['sat_total_score', \n",
    "                        'sat_participation']].to_dict(\"list\")"
   ]
  },
  {
   "cell_type": "code",
   "execution_count": 318,
   "metadata": {},
   "outputs": [
    {
     "data": {
      "text/plain": [
       "{'sat_total_score': 66.45224470585084,\n",
       " 'sat_participation': 0.33203106496105683}"
      ]
     },
     "execution_count": 318,
     "metadata": {},
     "output_type": "execute_result"
    }
   ],
   "source": [
    "sat_reqd_dict"
   ]
  },
  {
   "cell_type": "code",
   "execution_count": 311,
   "metadata": {},
   "outputs": [],
   "source": [
    "sat_reqd_dict = {key:std_dev(value) for key, value in act_not_reqd_dict.items()}"
   ]
  },
  {
   "cell_type": "code",
   "execution_count": 313,
   "metadata": {},
   "outputs": [
    {
     "data": {
      "text/plain": [
       "{'sat_total_score': 66.45224470585084,\n",
       " 'sat_participation': 0.33203106496105683}"
      ]
     },
     "execution_count": 313,
     "metadata": {},
     "output_type": "execute_result"
    }
   ],
   "source": [
    "sat_reqd_dict"
   ]
  },
  {
   "cell_type": "code",
   "execution_count": 319,
   "metadata": {},
   "outputs": [],
   "source": [
    "sat_not_reqd_dict = sat_not_reqd[['sat_total_score', \n",
    "                        'sat_participation']].to_dict(\"list\")"
   ]
  },
  {
   "cell_type": "code",
   "execution_count": 320,
   "metadata": {},
   "outputs": [],
   "source": [
    "sat_not_reqd_dict = {key:std_dev(value) for key, value in sat_not_reqd_dict.items()}"
   ]
  },
  {
   "cell_type": "code",
   "execution_count": 322,
   "metadata": {},
   "outputs": [
    {
     "data": {
      "text/plain": [
       "{'sat_total_score': 93.09188673026237, 'sat_participation': 0.3416811379049186}"
      ]
     },
     "execution_count": 322,
     "metadata": {},
     "output_type": "execute_result"
    }
   ],
   "source": [
    "sat_not_reqd_dict"
   ]
  },
  {
   "cell_type": "code",
   "execution_count": 405,
   "metadata": {},
   "outputs": [],
   "source": [
    "act_not_reqd_dict = act_not_reqd[['act_composite_score', \n",
    "                        'act_participation']].to_dict(\"list\")"
   ]
  },
  {
   "cell_type": "code",
   "execution_count": 325,
   "metadata": {},
   "outputs": [],
   "source": [
    "act_not_reqd_dict = {key:std_dev(value) for key, value in act_not_reqd_dict.items()}"
   ]
  },
  {
   "cell_type": "code",
   "execution_count": 326,
   "metadata": {},
   "outputs": [
    {
     "data": {
      "text/plain": [
       "{'act_composite_score': 1.9794119392749836,\n",
       " 'act_participation': 0.2611875120236384}"
      ]
     },
     "execution_count": 326,
     "metadata": {},
     "output_type": "execute_result"
    }
   ],
   "source": [
    "act_not_reqd_dict"
   ]
  },
  {
   "cell_type": "code",
   "execution_count": 407,
   "metadata": {},
   "outputs": [
    {
     "data": {
      "text/html": [
       "<div>\n",
       "<style scoped>\n",
       "    .dataframe tbody tr th:only-of-type {\n",
       "        vertical-align: middle;\n",
       "    }\n",
       "\n",
       "    .dataframe tbody tr th {\n",
       "        vertical-align: top;\n",
       "    }\n",
       "\n",
       "    .dataframe thead th {\n",
       "        text-align: right;\n",
       "    }\n",
       "</style>\n",
       "<table border=\"1\" class=\"dataframe\">\n",
       "  <thead>\n",
       "    <tr style=\"text-align: right;\">\n",
       "      <th></th>\n",
       "      <th>state</th>\n",
       "      <th>act_participation</th>\n",
       "      <th>act_composite_score</th>\n",
       "      <th>sat_participation</th>\n",
       "      <th>sat_reading_writing_score</th>\n",
       "      <th>sat_math_score</th>\n",
       "      <th>sat_total_score</th>\n",
       "    </tr>\n",
       "  </thead>\n",
       "  <tbody>\n",
       "    <tr>\n",
       "      <th>28</th>\n",
       "      <td>Nevada</td>\n",
       "      <td>1.00</td>\n",
       "      <td>17.9</td>\n",
       "      <td>0.20</td>\n",
       "      <td>580</td>\n",
       "      <td>576</td>\n",
       "      <td>1156</td>\n",
       "    </tr>\n",
       "    <tr>\n",
       "      <th>24</th>\n",
       "      <td>Mississippi</td>\n",
       "      <td>1.00</td>\n",
       "      <td>18.4</td>\n",
       "      <td>0.03</td>\n",
       "      <td>628</td>\n",
       "      <td>608</td>\n",
       "      <td>1237</td>\n",
       "    </tr>\n",
       "    <tr>\n",
       "      <th>40</th>\n",
       "      <td>South Carolina</td>\n",
       "      <td>0.78</td>\n",
       "      <td>18.8</td>\n",
       "      <td>0.68</td>\n",
       "      <td>526</td>\n",
       "      <td>504</td>\n",
       "      <td>1030</td>\n",
       "    </tr>\n",
       "    <tr>\n",
       "      <th>18</th>\n",
       "      <td>Louisiana</td>\n",
       "      <td>1.00</td>\n",
       "      <td>18.8</td>\n",
       "      <td>0.05</td>\n",
       "      <td>610</td>\n",
       "      <td>591</td>\n",
       "      <td>1200</td>\n",
       "    </tr>\n",
       "    <tr>\n",
       "      <th>0</th>\n",
       "      <td>Alabama</td>\n",
       "      <td>1.00</td>\n",
       "      <td>18.9</td>\n",
       "      <td>0.07</td>\n",
       "      <td>583</td>\n",
       "      <td>560</td>\n",
       "      <td>1143</td>\n",
       "    </tr>\n",
       "    <tr>\n",
       "      <th>11</th>\n",
       "      <td>Hawaii</td>\n",
       "      <td>0.80</td>\n",
       "      <td>19.0</td>\n",
       "      <td>0.54</td>\n",
       "      <td>550</td>\n",
       "      <td>550</td>\n",
       "      <td>1100</td>\n",
       "    </tr>\n",
       "    <tr>\n",
       "      <th>33</th>\n",
       "      <td>North Carolina</td>\n",
       "      <td>1.00</td>\n",
       "      <td>19.0</td>\n",
       "      <td>0.51</td>\n",
       "      <td>554</td>\n",
       "      <td>546</td>\n",
       "      <td>1100</td>\n",
       "    </tr>\n",
       "    <tr>\n",
       "      <th>42</th>\n",
       "      <td>Tennessee</td>\n",
       "      <td>1.00</td>\n",
       "      <td>19.4</td>\n",
       "      <td>0.07</td>\n",
       "      <td>618</td>\n",
       "      <td>602</td>\n",
       "      <td>1220</td>\n",
       "    </tr>\n",
       "    <tr>\n",
       "      <th>50</th>\n",
       "      <td>Wyoming</td>\n",
       "      <td>1.00</td>\n",
       "      <td>19.8</td>\n",
       "      <td>0.03</td>\n",
       "      <td>623</td>\n",
       "      <td>615</td>\n",
       "      <td>1238</td>\n",
       "    </tr>\n",
       "    <tr>\n",
       "      <th>26</th>\n",
       "      <td>Montana</td>\n",
       "      <td>1.00</td>\n",
       "      <td>19.8</td>\n",
       "      <td>0.09</td>\n",
       "      <td>603</td>\n",
       "      <td>596</td>\n",
       "      <td>1199</td>\n",
       "    </tr>\n",
       "    <tr>\n",
       "      <th>17</th>\n",
       "      <td>Kentucky</td>\n",
       "      <td>1.00</td>\n",
       "      <td>19.8</td>\n",
       "      <td>0.04</td>\n",
       "      <td>620</td>\n",
       "      <td>612</td>\n",
       "      <td>1232</td>\n",
       "    </tr>\n",
       "    <tr>\n",
       "      <th>34</th>\n",
       "      <td>North Dakota</td>\n",
       "      <td>0.96</td>\n",
       "      <td>19.9</td>\n",
       "      <td>0.02</td>\n",
       "      <td>627</td>\n",
       "      <td>636</td>\n",
       "      <td>1263</td>\n",
       "    </tr>\n",
       "    <tr>\n",
       "      <th>35</th>\n",
       "      <td>Ohio</td>\n",
       "      <td>1.00</td>\n",
       "      <td>20.0</td>\n",
       "      <td>0.19</td>\n",
       "      <td>550</td>\n",
       "      <td>548</td>\n",
       "      <td>1097</td>\n",
       "    </tr>\n",
       "    <tr>\n",
       "      <th>27</th>\n",
       "      <td>Nebraska</td>\n",
       "      <td>1.00</td>\n",
       "      <td>20.0</td>\n",
       "      <td>0.03</td>\n",
       "      <td>628</td>\n",
       "      <td>631</td>\n",
       "      <td>1260</td>\n",
       "    </tr>\n",
       "    <tr>\n",
       "      <th>44</th>\n",
       "      <td>Utah</td>\n",
       "      <td>1.00</td>\n",
       "      <td>20.3</td>\n",
       "      <td>0.04</td>\n",
       "      <td>614</td>\n",
       "      <td>615</td>\n",
       "      <td>1230</td>\n",
       "    </tr>\n",
       "    <tr>\n",
       "      <th>49</th>\n",
       "      <td>Wisconsin</td>\n",
       "      <td>1.00</td>\n",
       "      <td>20.3</td>\n",
       "      <td>0.03</td>\n",
       "      <td>635</td>\n",
       "      <td>648</td>\n",
       "      <td>1283</td>\n",
       "    </tr>\n",
       "    <tr>\n",
       "      <th>25</th>\n",
       "      <td>Missouri</td>\n",
       "      <td>0.82</td>\n",
       "      <td>20.8</td>\n",
       "      <td>0.04</td>\n",
       "      <td>622</td>\n",
       "      <td>615</td>\n",
       "      <td>1236</td>\n",
       "    </tr>\n",
       "    <tr>\n",
       "      <th>12</th>\n",
       "      <td>Idaho</td>\n",
       "      <td>0.31</td>\n",
       "      <td>22.5</td>\n",
       "      <td>1.00</td>\n",
       "      <td>505</td>\n",
       "      <td>488</td>\n",
       "      <td>993</td>\n",
       "    </tr>\n",
       "  </tbody>\n",
       "</table>\n",
       "</div>"
      ],
      "text/plain": [
       "             state  act_participation  act_composite_score  sat_participation  \\\n",
       "28          Nevada               1.00                 17.9               0.20   \n",
       "24     Mississippi               1.00                 18.4               0.03   \n",
       "40  South Carolina               0.78                 18.8               0.68   \n",
       "18       Louisiana               1.00                 18.8               0.05   \n",
       "0          Alabama               1.00                 18.9               0.07   \n",
       "11          Hawaii               0.80                 19.0               0.54   \n",
       "33  North Carolina               1.00                 19.0               0.51   \n",
       "42       Tennessee               1.00                 19.4               0.07   \n",
       "50         Wyoming               1.00                 19.8               0.03   \n",
       "26         Montana               1.00                 19.8               0.09   \n",
       "17        Kentucky               1.00                 19.8               0.04   \n",
       "34    North Dakota               0.96                 19.9               0.02   \n",
       "35            Ohio               1.00                 20.0               0.19   \n",
       "27        Nebraska               1.00                 20.0               0.03   \n",
       "44            Utah               1.00                 20.3               0.04   \n",
       "49       Wisconsin               1.00                 20.3               0.03   \n",
       "25        Missouri               0.82                 20.8               0.04   \n",
       "12           Idaho               0.31                 22.5               1.00   \n",
       "\n",
       "    sat_reading_writing_score  sat_math_score  sat_total_score  \n",
       "28                        580             576             1156  \n",
       "24                        628             608             1237  \n",
       "40                        526             504             1030  \n",
       "18                        610             591             1200  \n",
       "0                         583             560             1143  \n",
       "11                        550             550             1100  \n",
       "33                        554             546             1100  \n",
       "42                        618             602             1220  \n",
       "50                        623             615             1238  \n",
       "26                        603             596             1199  \n",
       "17                        620             612             1232  \n",
       "34                        627             636             1263  \n",
       "35                        550             548             1097  \n",
       "27                        628             631             1260  \n",
       "44                        614             615             1230  \n",
       "49                        635             648             1283  \n",
       "25                        622             615             1236  \n",
       "12                        505             488              993  "
      ]
     },
     "execution_count": 407,
     "metadata": {},
     "output_type": "execute_result"
    }
   ],
   "source": [
    "act_reqd.sort_values(by='act_composite_score', ascending=\"False\")"
   ]
  },
  {
   "cell_type": "code",
   "execution_count": 396,
   "metadata": {},
   "outputs": [
    {
     "data": {
      "text/html": [
       "<div>\n",
       "<style scoped>\n",
       "    .dataframe tbody tr th:only-of-type {\n",
       "        vertical-align: middle;\n",
       "    }\n",
       "\n",
       "    .dataframe tbody tr th {\n",
       "        vertical-align: top;\n",
       "    }\n",
       "\n",
       "    .dataframe thead th {\n",
       "        text-align: right;\n",
       "    }\n",
       "</style>\n",
       "<table border=\"1\" class=\"dataframe\">\n",
       "  <thead>\n",
       "    <tr style=\"text-align: right;\">\n",
       "      <th></th>\n",
       "      <th>state</th>\n",
       "      <th>act_participation</th>\n",
       "      <th>act_composite_score</th>\n",
       "      <th>sat_participation</th>\n",
       "      <th>sat_reading_writing_score</th>\n",
       "      <th>sat_math_score</th>\n",
       "      <th>sat_total_score</th>\n",
       "    </tr>\n",
       "  </thead>\n",
       "  <tbody>\n",
       "    <tr>\n",
       "      <th>8</th>\n",
       "      <td>District of Columbia</td>\n",
       "      <td>0.32</td>\n",
       "      <td>23.5</td>\n",
       "      <td>0.94</td>\n",
       "      <td>495</td>\n",
       "      <td>480</td>\n",
       "      <td>975</td>\n",
       "    </tr>\n",
       "    <tr>\n",
       "      <th>7</th>\n",
       "      <td>Delaware</td>\n",
       "      <td>0.13</td>\n",
       "      <td>24.1</td>\n",
       "      <td>1.00</td>\n",
       "      <td>499</td>\n",
       "      <td>486</td>\n",
       "      <td>985</td>\n",
       "    </tr>\n",
       "    <tr>\n",
       "      <th>12</th>\n",
       "      <td>Idaho</td>\n",
       "      <td>0.31</td>\n",
       "      <td>22.5</td>\n",
       "      <td>1.00</td>\n",
       "      <td>505</td>\n",
       "      <td>488</td>\n",
       "      <td>993</td>\n",
       "    </tr>\n",
       "    <tr>\n",
       "      <th>22</th>\n",
       "      <td>Michigan</td>\n",
       "      <td>0.19</td>\n",
       "      <td>24.4</td>\n",
       "      <td>1.00</td>\n",
       "      <td>507</td>\n",
       "      <td>496</td>\n",
       "      <td>1003</td>\n",
       "    </tr>\n",
       "    <tr>\n",
       "      <th>13</th>\n",
       "      <td>Illinois</td>\n",
       "      <td>0.35</td>\n",
       "      <td>24.3</td>\n",
       "      <td>1.00</td>\n",
       "      <td>509</td>\n",
       "      <td>504</td>\n",
       "      <td>1013</td>\n",
       "    </tr>\n",
       "    <tr>\n",
       "      <th>19</th>\n",
       "      <td>Maine</td>\n",
       "      <td>0.06</td>\n",
       "      <td>24.3</td>\n",
       "      <td>0.99</td>\n",
       "      <td>512</td>\n",
       "      <td>502</td>\n",
       "      <td>1013</td>\n",
       "    </tr>\n",
       "    <tr>\n",
       "      <th>5</th>\n",
       "      <td>Colorado</td>\n",
       "      <td>0.27</td>\n",
       "      <td>23.8</td>\n",
       "      <td>1.00</td>\n",
       "      <td>518</td>\n",
       "      <td>506</td>\n",
       "      <td>1024</td>\n",
       "    </tr>\n",
       "    <tr>\n",
       "      <th>6</th>\n",
       "      <td>Connecticut</td>\n",
       "      <td>0.22</td>\n",
       "      <td>25.5</td>\n",
       "      <td>1.00</td>\n",
       "      <td>529</td>\n",
       "      <td>516</td>\n",
       "      <td>1046</td>\n",
       "    </tr>\n",
       "    <tr>\n",
       "      <th>29</th>\n",
       "      <td>New Hampshire</td>\n",
       "      <td>0.14</td>\n",
       "      <td>25.0</td>\n",
       "      <td>0.95</td>\n",
       "      <td>533</td>\n",
       "      <td>526</td>\n",
       "      <td>1059</td>\n",
       "    </tr>\n",
       "    <tr>\n",
       "      <th>35</th>\n",
       "      <td>Ohio</td>\n",
       "      <td>1.00</td>\n",
       "      <td>20.0</td>\n",
       "      <td>0.19</td>\n",
       "      <td>550</td>\n",
       "      <td>548</td>\n",
       "      <td>1097</td>\n",
       "    </tr>\n",
       "    <tr>\n",
       "      <th>42</th>\n",
       "      <td>Tennessee</td>\n",
       "      <td>1.00</td>\n",
       "      <td>19.4</td>\n",
       "      <td>0.07</td>\n",
       "      <td>618</td>\n",
       "      <td>602</td>\n",
       "      <td>1220</td>\n",
       "    </tr>\n",
       "  </tbody>\n",
       "</table>\n",
       "</div>"
      ],
      "text/plain": [
       "                   state  act_participation  act_composite_score  \\\n",
       "8   District of Columbia               0.32                 23.5   \n",
       "7               Delaware               0.13                 24.1   \n",
       "12                 Idaho               0.31                 22.5   \n",
       "22              Michigan               0.19                 24.4   \n",
       "13              Illinois               0.35                 24.3   \n",
       "19                 Maine               0.06                 24.3   \n",
       "5               Colorado               0.27                 23.8   \n",
       "6            Connecticut               0.22                 25.5   \n",
       "29         New Hampshire               0.14                 25.0   \n",
       "35                  Ohio               1.00                 20.0   \n",
       "42             Tennessee               1.00                 19.4   \n",
       "\n",
       "    sat_participation  sat_reading_writing_score  sat_math_score  \\\n",
       "8                0.94                        495             480   \n",
       "7                1.00                        499             486   \n",
       "12               1.00                        505             488   \n",
       "22               1.00                        507             496   \n",
       "13               1.00                        509             504   \n",
       "19               0.99                        512             502   \n",
       "5                1.00                        518             506   \n",
       "6                1.00                        529             516   \n",
       "29               0.95                        533             526   \n",
       "35               0.19                        550             548   \n",
       "42               0.07                        618             602   \n",
       "\n",
       "    sat_total_score  \n",
       "8               975  \n",
       "7               985  \n",
       "12              993  \n",
       "22             1003  \n",
       "13             1013  \n",
       "19             1013  \n",
       "5              1024  \n",
       "6              1046  \n",
       "29             1059  \n",
       "35             1097  \n",
       "42             1220  "
      ]
     },
     "execution_count": 396,
     "metadata": {},
     "output_type": "execute_result"
    }
   ],
   "source": [
    "sat_reqd.sort_values(by='sat_total_score', ascending=\"False\")"
   ]
  },
  {
   "cell_type": "markdown",
   "metadata": {},
   "source": [
    "This is where I ultimately saw the correlation between High Participation rates equating to lower scores and Lower Participation Rates getting much higher scores, with both tests"
   ]
  },
  {
   "cell_type": "markdown",
   "metadata": {},
   "source": [
    "## Visualize the Data\n",
    "\n",
    "There's not a magic bullet recommendation for the right number of plots to understand a given dataset, but visualizing your data is *always* a good idea. Not only does it allow you to quickly convey your findings (even if you have a non-technical audience), it will often reveal trends in your data that escaped you when you were looking only at numbers. It is important to not only create visualizations, but to **interpret your visualizations** as well.\n",
    "\n",
    "**Every plot should**:\n",
    "- Have a title\n",
    "- Have axis labels\n",
    "- Have appropriate tick labels\n",
    "- Text is legible in a plot\n",
    "- Plots demonstrate meaningful and valid relationships\n",
    "- Have an interpretation to aid understanding\n",
    "\n",
    "Here is an example of what your plots should look like following the above guidelines. Note that while the content of this example is unrelated, the principles of visualization hold:\n",
    "\n",
    "![](https://snag.gy/hCBR1U.jpg)\n",
    "*Interpretation: The above image shows that as we increase our spending on advertising, our sales numbers also tend to increase. There is a positive correlation between advertising spending and sales.*\n",
    "\n",
    "---\n",
    "\n",
    "Here are some prompts to get you started with visualizations. Feel free to add additional visualizations as you see fit:\n",
    "1. Use Seaborn's heatmap with pandas `.corr()` to visualize correlations between all numeric features.\n",
    "    - Heatmaps are generally not appropriate for presentations, and should often be excluded from reports as they can be visually overwhelming. **However**, they can be extremely useful in identify relationships of potential interest (as well as identifying potential collinearity before modeling).\n",
    "    - Please take time to format your output, adding a title. Look through some of the additional arguments and options. (Axis labels aren't really necessary, as long as the title is informative).\n",
    "2. Visualize distributions using histograms. If you have a lot, consider writing a custom function and use subplots.\n",
    "    - *OPTIONAL*: Summarize the underlying distributions of your features (in words & statistics)\n",
    "         - Be thorough in your verbal description of these distributions.\n",
    "         - Be sure to back up these summaries with statistics.\n",
    "         - We generally assume that data we sample from a population will be normally distributed. Do we observe this trend? Explain your answers for each distribution and how you think this will affect estimates made from these data.\n",
    "3. Plot and interpret boxplots. \n",
    "    - Boxplots demonstrate central tendency and spread in variables. In a certain sense, these are somewhat redundant with histograms, but you may be better able to identify clear outliers or differences in IQR, etc.\n",
    "    - Multiple values can be plotted to a single boxplot as long as they are of the same relative scale (meaning they have similar min/max values).\n",
    "    - Each boxplot should:\n",
    "        - Only include variables of a similar scale\n",
    "        - Have clear labels for each variable\n",
    "        - Have appropriate titles and labels\n",
    "4. Plot and interpret scatter plots to view relationships between features. Feel free to write a custom function, and subplot if you'd like. Functions save both time and space.\n",
    "    - Your plots should have:\n",
    "        - Two clearly labeled axes\n",
    "        - A proper title\n",
    "        - Colors and symbols that are clear and unmistakable\n",
    "5. Additional plots of your choosing.\n",
    "    - Are there any additional trends or relationships you haven't explored? Was there something interesting you saw that you'd like to dive further into? It's likely that there are a few more plots you might want to generate to support your narrative and recommendations that you are building toward. **As always, make sure you're interpreting your plots as you go**."
   ]
  },
  {
   "cell_type": "code",
   "execution_count": 408,
   "metadata": {},
   "outputs": [
    {
     "data": {
      "text/plain": [
       "Text(0.5, 1.0, 'ACT/SAT Merged Tests Correlation Heatmap')"
      ]
     },
     "execution_count": 408,
     "metadata": {},
     "output_type": "execute_result"
    },
    {
     "data": {
      "image/png": "[encoded data removed]",
      "text/plain": [
       "<Figure size 432x288 with 2 Axes>"
      ]
     },
     "metadata": {},
     "output_type": "display_data"
    }
   ],
   "source": [
    "heatmap = sns.heatmap(tests_merged.corr(), vmin=-1, vmax=1, annot=True)\n",
    "heatmap.set_title('ACT/SAT Merged Tests Correlation Heatmap')\n",
    "\n",
    "# Heatmap created for entire dataframe of tests merged -- didn't find these helpful for any of my dataframes"
   ]
  },
  {
   "cell_type": "code",
   "execution_count": 357,
   "metadata": {},
   "outputs": [
    {
     "name": "stderr",
     "output_type": "stream",
     "text": [
      "<ipython-input-357-3db04a56ffb1>:4: UserWarning: To output multiple subplots, the figure containing the passed axes is being cleared\n",
      "  sat_reqd.hist(ax = ax)\n"
     ]
    },
    {
     "data": {
      "text/plain": [
       "array([[<AxesSubplot:title={'center':'act_participation'}>,\n",
       "        <AxesSubplot:title={'center':'act_composite_score'}>],\n",
       "       [<AxesSubplot:title={'center':'sat_participation'}>,\n",
       "        <AxesSubplot:title={'center':'sat_reading_writing_score'}>],\n",
       "       [<AxesSubplot:title={'center':'sat_math_score'}>,\n",
       "        <AxesSubplot:title={'center':'sat_total_score'}>]], dtype=object)"
      ]
     },
     "execution_count": 357,
     "metadata": {},
     "output_type": "execute_result"
    },
    {
     "data": {
      "image/png": "[encoded data removed]",
      "text/plain": [
       "<Figure size 720x1080 with 6 Axes>"
      ]
     },
     "metadata": {},
     "output_type": "display_data"
    }
   ],
   "source": [
    "# HISTOGRAM\n",
    "fig = plt.figure(figsize = (10,15))\n",
    "ax = fig.gca()\n",
    "sat_reqd.hist(ax = ax)\n",
    "\n",
    "# Again, histograms did not seem to be incredibly useful -- though i could have attempted manipulating them more\n",
    "# These are histograms for my SAT-Required states dataframe"
   ]
  },
  {
   "cell_type": "code",
   "execution_count": 377,
   "metadata": {},
   "outputs": [
    {
     "data": {
      "text/plain": [
       "<AxesSubplot:>"
      ]
     },
     "execution_count": 377,
     "metadata": {},
     "output_type": "execute_result"
    },
    {
     "data": {
      "image/png": "[encoded data removed]",
      "text/plain": [
       "<Figure size 432x288 with 1 Axes>"
      ]
     },
     "metadata": {},
     "output_type": "display_data"
    }
   ],
   "source": [
    "sat_reqd.boxplot(column='sat_total_score',\n",
    "                       grid=False)\n",
    "# Tried mapping out multiple boxplots for all of my dataframs, had some issues but ultimately didn't\n",
    "# find what I could get to be useful"
   ]
  },
  {
   "cell_type": "code",
   "execution_count": 409,
   "metadata": {},
   "outputs": [
    {
     "data": {
      "text/plain": [
       "<bound method DataFrame.corr of                    state  act_participation  act_composite_score  \\\n",
       "5               Colorado               0.27                 23.8   \n",
       "6            Connecticut               0.22                 25.5   \n",
       "7               Delaware               0.13                 24.1   \n",
       "8   District of Columbia               0.32                 23.5   \n",
       "12                 Idaho               0.31                 22.5   \n",
       "13              Illinois               0.35                 24.3   \n",
       "19                 Maine               0.06                 24.3   \n",
       "22              Michigan               0.19                 24.4   \n",
       "29         New Hampshire               0.14                 25.0   \n",
       "35                  Ohio               1.00                 20.0   \n",
       "42             Tennessee               1.00                 19.4   \n",
       "\n",
       "    sat_participation  sat_reading_writing_score  sat_math_score  \\\n",
       "5                1.00                        518             506   \n",
       "6                1.00                        529             516   \n",
       "7                1.00                        499             486   \n",
       "8                0.94                        495             480   \n",
       "12               1.00                        505             488   \n",
       "13               1.00                        509             504   \n",
       "19               0.99                        512             502   \n",
       "22               1.00                        507             496   \n",
       "29               0.95                        533             526   \n",
       "35               0.19                        550             548   \n",
       "42               0.07                        618             602   \n",
       "\n",
       "    sat_total_score  \n",
       "5              1024  \n",
       "6              1046  \n",
       "7               985  \n",
       "8               975  \n",
       "12              993  \n",
       "13             1013  \n",
       "19             1013  \n",
       "22             1003  \n",
       "29             1059  \n",
       "35             1097  \n",
       "42             1220  >"
      ]
     },
     "execution_count": 409,
     "metadata": {},
     "output_type": "execute_result"
    }
   ],
   "source": [
    "sat_reqd.corr"
   ]
  },
  {
   "cell_type": "code",
   "execution_count": 332,
   "metadata": {},
   "outputs": [
    {
     "data": {
      "text/plain": [
       "<BarContainer object of 2 artists>"
      ]
     },
     "execution_count": 332,
     "metadata": {},
     "output_type": "execute_result"
    },
    {
     "data": {
      "image/png": "[encoded data removed]",
      "text/plain": [
       "<Figure size 432x288 with 1 Axes>"
      ]
     },
     "metadata": {},
     "output_type": "display_data"
    }
   ],
   "source": [
    "# Multiple bar charts below for all of my dataframes -- didn't jump out to me to be incredibly useful\n",
    "\n",
    "keys = act_reqd_dict.keys()\n",
    "values = act_reqd_dict.values()\n",
    "\n",
    "plt.bar(keys, values)"
   ]
  },
  {
   "cell_type": "code",
   "execution_count": 333,
   "metadata": {},
   "outputs": [
    {
     "data": {
      "text/plain": [
       "<BarContainer object of 2 artists>"
      ]
     },
     "execution_count": 333,
     "metadata": {},
     "output_type": "execute_result"
    },
    {
     "data": {
      "image/png": "[encoded data removed]",
      "text/plain": [
       "<Figure size 432x288 with 1 Axes>"
      ]
     },
     "metadata": {},
     "output_type": "display_data"
    }
   ],
   "source": [
    "keys = act_not_reqd_dict.keys()\n",
    "values = act_not_reqd_dict.values()\n",
    "\n",
    "plt.bar(keys, values)"
   ]
  },
  {
   "cell_type": "code",
   "execution_count": 334,
   "metadata": {},
   "outputs": [
    {
     "data": {
      "text/plain": [
       "<BarContainer object of 2 artists>"
      ]
     },
     "execution_count": 334,
     "metadata": {},
     "output_type": "execute_result"
    },
    {
     "data": {
      "image/png": "[encoded data removed]",
      "text/plain": [
       "<Figure size 432x288 with 1 Axes>"
      ]
     },
     "metadata": {},
     "output_type": "display_data"
    }
   ],
   "source": [
    "keys = sat_reqd_dict.keys()\n",
    "values = sat_reqd_dict.values()\n",
    "\n",
    "plt.bar(keys, values)"
   ]
  },
  {
   "cell_type": "code",
   "execution_count": 335,
   "metadata": {},
   "outputs": [
    {
     "data": {
      "text/plain": [
       "<BarContainer object of 2 artists>"
      ]
     },
     "execution_count": 335,
     "metadata": {},
     "output_type": "execute_result"
    },
    {
     "data": {
      "image/png": "[encoded data removed]",
      "text/plain": [
       "<Figure size 432x288 with 1 Axes>"
      ]
     },
     "metadata": {},
     "output_type": "display_data"
    }
   ],
   "source": [
    "keys = sat_not_reqd_dict.keys()\n",
    "values = sat_not_reqd_dict.values()\n",
    "\n",
    "plt.bar(keys, values)"
   ]
  },
  {
   "cell_type": "code",
   "execution_count": 411,
   "metadata": {},
   "outputs": [
    {
     "name": "stderr",
     "output_type": "stream",
     "text": [
      "C:\\Users\\Burger\\anaconda3\\envs\\dsi\\lib\\site-packages\\seaborn\\_decorators.py:36: FutureWarning: Pass the following variables as keyword args: x, y. From version 0.12, the only valid positional argument will be `data`, and passing other arguments without an explicit keyword will result in an error or misinterpretation.\n",
      "  warnings.warn(\n"
     ]
    },
    {
     "data": {
      "text/plain": [
       "Text(0.5, 1.0, 'ACT Scores and Participation Overall')"
      ]
     },
     "execution_count": 411,
     "metadata": {},
     "output_type": "execute_result"
    },
    {
     "data": {
      "image/png": "[encoded data removed]",
      "text/plain": [
       "<Figure size 720x432 with 1 Axes>"
      ]
     },
     "metadata": {},
     "output_type": "display_data"
    }
   ],
   "source": [
    "plt.figure(figsize = (10, 6))\n",
    "sns.scatterplot(tests_merged['act_participation'], tests_merged['act_composite_score'])\n",
    "plt.title(\"ACT Scores and Participation Overall\")\n",
    "\n",
    "# Scatterplots seem to be the best way to visualize my data \n",
    "# -- Created for each datafram that I ended up using for my problem statement"
   ]
  },
  {
   "cell_type": "code",
   "execution_count": 365,
   "metadata": {},
   "outputs": [
    {
     "name": "stderr",
     "output_type": "stream",
     "text": [
      "C:\\Users\\Burger\\anaconda3\\envs\\dsi\\lib\\site-packages\\seaborn\\_decorators.py:36: FutureWarning: Pass the following variables as keyword args: x, y. From version 0.12, the only valid positional argument will be `data`, and passing other arguments without an explicit keyword will result in an error or misinterpretation.\n",
      "  warnings.warn(\n"
     ]
    },
    {
     "data": {
      "text/plain": [
       "Text(0.5, 1.0, 'ACT Participation & Scores in states that Require it')"
      ]
     },
     "execution_count": 365,
     "metadata": {},
     "output_type": "execute_result"
    },
    {
     "data": {
      "image/png": "[encoded data removed]",
      "text/plain": [
       "<Figure size 720x432 with 1 Axes>"
      ]
     },
     "metadata": {},
     "output_type": "display_data"
    }
   ],
   "source": [
    "plt.figure(figsize = (10, 6))\n",
    "sns.scatterplot(act_reqd['act_participation'], act_reqd['act_composite_score'])\n",
    "plt.title(\"ACT Participation & Scores in states that Require it\")"
   ]
  },
  {
   "cell_type": "code",
   "execution_count": 367,
   "metadata": {},
   "outputs": [
    {
     "name": "stderr",
     "output_type": "stream",
     "text": [
      "C:\\Users\\Burger\\anaconda3\\envs\\dsi\\lib\\site-packages\\seaborn\\_decorators.py:36: FutureWarning: Pass the following variables as keyword args: x, y. From version 0.12, the only valid positional argument will be `data`, and passing other arguments without an explicit keyword will result in an error or misinterpretation.\n",
      "  warnings.warn(\n"
     ]
    },
    {
     "data": {
      "text/plain": [
       "Text(0.5, 1.0, \"ACT Participation & Scores in states that Don't Require it\")"
      ]
     },
     "execution_count": 367,
     "metadata": {},
     "output_type": "execute_result"
    },
    {
     "data": {
      "image/png": "[encoded data removed]",
      "text/plain": [
       "<Figure size 720x432 with 1 Axes>"
      ]
     },
     "metadata": {},
     "output_type": "display_data"
    }
   ],
   "source": [
    "plt.figure(figsize = (10, 6))\n",
    "sns.scatterplot(act_not_reqd['act_participation'], act_not_reqd['act_composite_score'])\n",
    "plt.title(\"ACT Participation & Scores in states that Don't Require it\")"
   ]
  },
  {
   "cell_type": "code",
   "execution_count": 368,
   "metadata": {},
   "outputs": [
    {
     "name": "stderr",
     "output_type": "stream",
     "text": [
      "C:\\Users\\Burger\\anaconda3\\envs\\dsi\\lib\\site-packages\\seaborn\\_decorators.py:36: FutureWarning: Pass the following variables as keyword args: x, y. From version 0.12, the only valid positional argument will be `data`, and passing other arguments without an explicit keyword will result in an error or misinterpretation.\n",
      "  warnings.warn(\n"
     ]
    },
    {
     "data": {
      "text/plain": [
       "Text(0.5, 1.0, 'SAT Scores and Participation Overall')"
      ]
     },
     "execution_count": 368,
     "metadata": {},
     "output_type": "execute_result"
    },
    {
     "data": {
      "image/png": "[encoded data removed]",
      "text/plain": [
       "<Figure size 720x432 with 1 Axes>"
      ]
     },
     "metadata": {},
     "output_type": "display_data"
    }
   ],
   "source": [
    "plt.figure(figsize = (10, 6))\n",
    "sns.scatterplot(tests_merged['sat_participation'], tests_merged['sat_total_score'])\n",
    "plt.title(\"SAT Scores and Participation Overall\")"
   ]
  },
  {
   "cell_type": "code",
   "execution_count": 369,
   "metadata": {},
   "outputs": [
    {
     "name": "stderr",
     "output_type": "stream",
     "text": [
      "C:\\Users\\Burger\\anaconda3\\envs\\dsi\\lib\\site-packages\\seaborn\\_decorators.py:36: FutureWarning: Pass the following variables as keyword args: x, y. From version 0.12, the only valid positional argument will be `data`, and passing other arguments without an explicit keyword will result in an error or misinterpretation.\n",
      "  warnings.warn(\n"
     ]
    },
    {
     "data": {
      "text/plain": [
       "Text(0.5, 1.0, 'SAT Participation & Scores in states that Require it')"
      ]
     },
     "execution_count": 369,
     "metadata": {},
     "output_type": "execute_result"
    },
    {
     "data": {
      "image/png": "[encoded data removed]",
      "text/plain": [
       "<Figure size 720x432 with 1 Axes>"
      ]
     },
     "metadata": {},
     "output_type": "display_data"
    }
   ],
   "source": [
    "plt.figure(figsize = (10, 6))\n",
    "sns.scatterplot(sat_reqd['sat_participation'], sat_reqd['sat_total_score'])\n",
    "plt.title(\"SAT Participation & Scores in states that Require it\")"
   ]
  },
  {
   "cell_type": "code",
   "execution_count": 394,
   "metadata": {},
   "outputs": [
    {
     "data": {
      "text/plain": [
       "Text(0.5, 1.0, \"SAT Participation & Scores in states that Don't Require it\")"
      ]
     },
     "execution_count": 394,
     "metadata": {},
     "output_type": "execute_result"
    },
    {
     "data": {
      "image/png": "[encoded data removed]",
      "text/plain": [
       "<Figure size 720x432 with 1 Axes>"
      ]
     },
     "metadata": {},
     "output_type": "display_data"
    }
   ],
   "source": [
    "plt.figure(figsize = (10, 6))\n",
    "sns.scatterplot(sat_not_reqd['sat_participation'], sat_not_reqd['sat_total_score'])\n",
    "plt.title(\"SAT Participation & Scores in states that Don't Require it\")"
   ]
  },
  {
   "cell_type": "code",
   "execution_count": 390,
   "metadata": {},
   "outputs": [
    {
     "data": {
      "text/plain": [
       "<AxesSubplot:xlabel='act_composite_score', ylabel='Count'>"
      ]
     },
     "execution_count": 390,
     "metadata": {},
     "output_type": "execute_result"
    },
    {
     "data": {
      "image/png": "[encoded data removed]",
      "text/plain": [
       "<Figure size 720x432 with 1 Axes>"
      ]
     },
     "metadata": {},
     "output_type": "display_data"
    }
   ],
   "source": [
    "plt.figure(figsize = (10, 6))\n",
    "sns.histplot(act_reqd['act_composite_score'], bins=12)\n",
    "\n",
    "#Playing around with histograms -- once again, didn't find incredibly useful with my data"
   ]
  },
  {
   "cell_type": "code",
   "execution_count": 141,
   "metadata": {},
   "outputs": [
    {
     "name": "stderr",
     "output_type": "stream",
     "text": [
      "C:\\Users\\Burger\\anaconda3\\envs\\dsi\\lib\\site-packages\\seaborn\\_decorators.py:36: FutureWarning: Pass the following variables as keyword args: x, y. From version 0.12, the only valid positional argument will be `data`, and passing other arguments without an explicit keyword will result in an error or misinterpretation.\n",
      "  warnings.warn(\n"
     ]
    },
    {
     "data": {
      "text/plain": [
       "<AxesSubplot:xlabel='sat_participation', ylabel='sat_total_score'>"
      ]
     },
     "execution_count": 141,
     "metadata": {},
     "output_type": "execute_result"
    },
    {
     "data": {
      "image/png": "[encoded data removed]",
      "text/plain": [
       "<Figure size 720x432 with 1 Axes>"
      ]
     },
     "metadata": {
      "needs_background": "light"
     },
     "output_type": "display_data"
    }
   ],
   "source": [
    "plt.figure(figsize = (10, 6))\n",
    "sns.scatterplot(tests_merged['sat_participation'], tests_merged['sat_total_score']) ###STAYING WHITE BACKGROUND WITHOUT GRID ?? "
   ]
  },
  {
   "cell_type": "code",
   "execution_count": 392,
   "metadata": {},
   "outputs": [
    {
     "name": "stderr",
     "output_type": "stream",
     "text": [
      "C:\\Users\\Burger\\anaconda3\\envs\\dsi\\lib\\site-packages\\seaborn\\_decorators.py:36: FutureWarning: Pass the following variables as keyword args: x, y. From version 0.12, the only valid positional argument will be `data`, and passing other arguments without an explicit keyword will result in an error or misinterpretation.\n",
      "  warnings.warn(\n"
     ]
    },
    {
     "data": {
      "text/plain": [
       "<AxesSubplot:xlabel='sat_participation', ylabel='sat_total_score'>"
      ]
     },
     "execution_count": 392,
     "metadata": {},
     "output_type": "execute_result"
    },
    {
     "data": {
      "image/png": "[encoded data removed]",
      "text/plain": [
       "<Figure size 720x432 with 1 Axes>"
      ]
     },
     "metadata": {},
     "output_type": "display_data"
    }
   ],
   "source": [
    "plt.figure(figsize = (10, 6))\n",
    "sns.scatterplot(sat_reqd['sat_participation'], sat_reqd['sat_total_score'])"
   ]
  },
  {
   "cell_type": "code",
   "execution_count": 113,
   "metadata": {},
   "outputs": [
    {
     "ename": "NameError",
     "evalue": "name 'sat_not_reqd' is not defined",
     "output_type": "error",
     "traceback": [
      "\u001b[1;31m---------------------------------------------------------------------------\u001b[0m",
      "\u001b[1;31mNameError\u001b[0m                                 Traceback (most recent call last)",
      "\u001b[1;32m<ipython-input-113-8c49b1a26e72>\u001b[0m in \u001b[0;36m<module>\u001b[1;34m\u001b[0m\n\u001b[0;32m      1\u001b[0m \u001b[0mplt\u001b[0m\u001b[1;33m.\u001b[0m\u001b[0mfigure\u001b[0m\u001b[1;33m(\u001b[0m\u001b[0mfigsize\u001b[0m \u001b[1;33m=\u001b[0m \u001b[1;33m(\u001b[0m\u001b[1;36m10\u001b[0m\u001b[1;33m,\u001b[0m \u001b[1;36m6\u001b[0m\u001b[1;33m)\u001b[0m\u001b[1;33m)\u001b[0m\u001b[1;33m\u001b[0m\u001b[1;33m\u001b[0m\u001b[0m\n\u001b[1;32m----> 2\u001b[1;33m \u001b[0msns\u001b[0m\u001b[1;33m.\u001b[0m\u001b[0mscatterplot\u001b[0m\u001b[1;33m(\u001b[0m\u001b[0msat_not_reqd\u001b[0m\u001b[1;33m[\u001b[0m\u001b[1;34m'sat_participation'\u001b[0m\u001b[1;33m]\u001b[0m\u001b[1;33m,\u001b[0m \u001b[0msat_not_reqd\u001b[0m\u001b[1;33m[\u001b[0m\u001b[1;34m'sat_total_score'\u001b[0m\u001b[1;33m]\u001b[0m\u001b[1;33m)\u001b[0m\u001b[1;33m\u001b[0m\u001b[1;33m\u001b[0m\u001b[0m\n\u001b[0m",
      "\u001b[1;31mNameError\u001b[0m: name 'sat_not_reqd' is not defined"
     ]
    },
    {
     "data": {
      "text/plain": [
       "<Figure size 720x432 with 0 Axes>"
      ]
     },
     "metadata": {},
     "output_type": "display_data"
    }
   ],
   "source": [
    "plt.figure(figsize = (10, 6))\n",
    "sns.scatterplot(sat_not_reqd['sat_participation'], sat_not_reqd['sat_total_score'])"
   ]
  },
  {
   "cell_type": "code",
   "execution_count": 391,
   "metadata": {},
   "outputs": [
    {
     "data": {
      "text/plain": [
       "<AxesSubplot:title={'center':'TEST'}>"
      ]
     },
     "execution_count": 391,
     "metadata": {},
     "output_type": "execute_result"
    },
    {
     "data": {
      "text/plain": [
       "<Figure size 7200x2160 with 0 Axes>"
      ]
     },
     "metadata": {},
     "output_type": "display_data"
    },
    {
     "data": {
      "image/png": "[encoded data removed]",
      "text/plain": [
       "<Figure size 432x288 with 1 Axes>"
      ]
     },
     "metadata": {},
     "output_type": "display_data"
    }
   ],
   "source": [
    "plt.figure(figsize = (100, 30))\n",
    "act_reqd.plot(kind='bar', title=\"TEST\")\n",
    "# Attempting to use a bargraph -- was too cluttered and had issues getting it to be more spread out\n",
    "# Could have potentially been a good way to show off data, but ultimately used scatters due to time"
   ]
  },
  {
   "cell_type": "markdown",
   "metadata": {},
   "source": [
    "Does your state require the SAT or ACT?\n",
    "https://www.testive.com/state-sat-act/\n",
    "(shows which states require SAT or ACT tests)"
   ]
  },
  {
   "cell_type": "markdown",
   "metadata": {},
   "source": [
    "## Conclusions and Recommendations"
   ]
  },
  {
   "cell_type": "markdown",
   "metadata": {},
   "source": [
    "Based on your exploration of the data, what are you key takeaways and recommendations? Make sure to answer your question of interest or address your problem statement here."
   ]
  },
  {
   "cell_type": "markdown",
   "metadata": {},
   "source": [
    "Summary of Analysis:\n",
    "    I began by importing both the ACT 2019 and SAT 2019 datasets. I then merged them to get a side-by-side comparison in each State. I was originally going to determine whether certain States had better chances of getting into Ivy League schools vs. others but the Ivy League data that I gathered, when compared to the SAT & ACT scores, it was clear that no State's scores fell into any of the Ivy League school's 25th-to-75th percentile range. So, I decided to switch my problem statement to my current one of whether or not there is any change in participation rate and scores for States that require one test or the other. With the new question in mind, I then separated the Merged Tests dataframe into 4 subsets; two for States that Require the ACT and States that do not, as well as two for States that require the SAT and states that do not.\n",
    "I then analyzed that data to determine by conclusion and graphed my findings primarily with scatterplots to show the results."
   ]
  },
  {
   "cell_type": "markdown",
   "metadata": {},
   "source": [
    "# Conclusions and Considerations"
   ]
  },
  {
   "cell_type": "markdown",
   "metadata": {},
   "source": [
    "Ultimately, data shows that states that require testing (for either SAT or ACT) definitely and naturally get higher participation rates but that does not necessarily equate to better scores in either test. Actually, the data shows quite the opposite and in my opinion, this is likely because the states with lower participation likely are composed of test-takers that are passionate about taking that particular test, as it likely is what is needed or preferred by the university that they would like to get into.\n",
    "\n",
    "I feel that funding should be put towards getting students to take the test that corresponds to whatever test is required or suggested by the College that they would like to attends.\n",
    "\n",
    "Otherwise, I believe there should be only one, universal test that all colleges accept. Therefore there is only one grading scale vs. 2, which may not represent that student's abilities as good as they could be represented. Would take years of research, trial and error...but I believe it can be done."
   ]
  },
  {
   "cell_type": "code",
   "execution_count": null,
   "metadata": {},
   "outputs": [],
   "source": []
  },
  {
   "cell_type": "markdown",
   "metadata": {},
   "source": [
    "Sources:\n",
    "Does your state require the SAT or ACT?\n",
    "https://www.testive.com/state-sat-act/\n",
    "(shows which states require SAT or ACT tests)"
   ]
  }
 ],
 "metadata": {
  "anaconda-cloud": {},
  "kernelspec": {
   "display_name": "Python 3",
   "language": "python",
   "name": "python3"
  },
  "language_info": {
   "codemirror_mode": {
    "name": "ipython",
    "version": 3
   },
   "file_extension": ".py",
   "mimetype": "text/x-python",
   "name": "python",
   "nbconvert_exporter": "python",
   "pygments_lexer": "ipython3",
   "version": "3.8.5"
  }
 },
 "nbformat": 4,
 "nbformat_minor": 4
}
